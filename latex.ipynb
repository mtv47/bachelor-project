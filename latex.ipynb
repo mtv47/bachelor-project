{
 "cells": [
  {
   "cell_type": "markdown",
   "metadata": {},
   "source": [
    "# Feature Map"
   ]
  },
  {
   "cell_type": "markdown",
   "metadata": {},
   "source": [
    "$$\n",
    "Z = \\left(\\begin{array}{cc}\n",
    "1 & 0 \\\\\n",
    "0 & -1\n",
    "\\end{array}\\right)\n",
    "\\qquad\n",
    "Z_0Z_1 = \\left(\\begin{array}{cccc}\n",
    "1 & 0 & 0 & 0 \\\\\n",
    "0 & -1 & 0 & 0 \\\\\n",
    "0 & 0 & -1 & 0 \\\\\n",
    "0 & 0 & 0 & 1\n",
    "\\end{array}\\right)\n",
    "$$"
   ]
  },
  {
   "cell_type": "markdown",
   "metadata": {},
   "source": [
    "$$U_{\\Phi(\\vec{x})}=\\exp \\left(i [x_1 Z_1+x_2 Z_2+(\\pi-x_1)(\\pi-x_2) Z_1Z_2]\\right)=\\exp \\left(i x_1 Z_1\\right)*\\exp \\left(i x_2 Z_2\\right)*\\exp \\left(i (\\pi-x_1)(\\pi-x_2) Z_1Z_2\\right)$$\n"
   ]
  },
  {
   "cell_type": "markdown",
   "metadata": {},
   "source": [
    "$$P(\\lambda)=\\left(\\begin{array}{cc}\n",
    "1 & 0 \\\\\n",
    "0 & e^{i \\lambda}\n",
    "\\end{array}\\right)\n",
    "\\qquad \n",
    "P(-2\\lambda)=\\left(\\begin{array}{cc}\n",
    "1 & 0 \\\\\n",
    "0 & e^{-i 2\\lambda}\n",
    "\\end{array}\\right)\n",
    "=e^{-i \\lambda}*\\left(\\begin{array}{cc}\n",
    "e^{i \\lambda} & 0 \\\\\n",
    "0 & e^{-i \\lambda}\n",
    "\\end{array}\\right)\n",
    "$$"
   ]
  },
  {
   "cell_type": "markdown",
   "metadata": {},
   "source": [
    "$$\n",
    " \\exp \\left(i x_0 Z_0\\right) = \\left(\\begin{array}{cc}\n",
    "e^{i x_0} & 0 \\\\\n",
    "0 & e^{-i x_0}\n",
    "\\end{array}\\right)\n",
    "= e^{i x_0}*P(-2x_0)\n",
    "\\qquad \\exp \\left(i x_1 Z_1\\right) = \\left(\\begin{array}{cc}\n",
    "e^{i x_1} & 0 \\\\\n",
    "0 & e^{-i x_1}\n",
    "\\end{array}\\right)\n",
    "= e^{i x_1}*P(-2x_1)\n",
    "$$"
   ]
  },
  {
   "cell_type": "markdown",
   "metadata": {},
   "source": [
    "$$Z_0Z_1 = \\left(\\begin{array}{cccc}\n",
    "1 & 0 & 0 & 0 \\\\\n",
    "0 & -1 & 0 & 0 \\\\\n",
    "0 & 0 & -1 & 0 \\\\\n",
    "0 & 0 & 0 & 1\n",
    "\\end{array}\\right)\n",
    "\\qquad\n",
    "e^{i \\lambda Z_0 Z_1}=\\left(\\begin{array}{cccc}\n",
    "e^{i \\lambda} & 0 & 0 & 0 \\\\\n",
    "0 & e^{-i \\lambda} & 0 & 0 \\\\\n",
    "0 & 0 & e^{-i \\lambda} & 0 \\\\\n",
    "0 & 0 & 0 & e^{i \\lambda}\n",
    "\\end{array}\\right)=e^{-i \\lambda}*\\left(\\begin{array}{cc}\n",
    "P(-2\\lambda) & 0 \\\\\n",
    "0 & X P(-2\\lambda) X\n",
    "\\end{array}\\right)\n",
    "= e^{-i \\lambda}* [C X \\cdot(I \\otimes P(-2\\lambda)) \\cdot C X]\n",
    "$$"
   ]
  },
  {
   "cell_type": "markdown",
   "metadata": {},
   "source": [
    "$$\\text { since } X P(-2\\lambda) X=\\left(\\begin{array}{ll}\n",
    "0 & 1 \\\\\n",
    "1 & 0\n",
    "\\end{array}\\right)\\left(\\begin{array}{cc}\n",
    "e^{i \\lambda} & 0 \\\\\n",
    "0 & e^{-i \\lambda}\n",
    "\\end{array}\\right)\\left(\\begin{array}{ll}\n",
    "0 & 1 \\\\\n",
    "1 & 0\n",
    "\\end{array}\\right)=\\left(\\begin{array}{cc}\n",
    "e^{-i \\lambda} & 0 \\\\\n",
    "0 & e^{i \\lambda}\n",
    "\\end{array}\\right)\n",
    "$$"
   ]
  },
  {
   "cell_type": "markdown",
   "metadata": {},
   "source": [
    "# Ansatz"
   ]
  },
  {
   "cell_type": "markdown",
   "metadata": {},
   "source": [
    "$$W(\\vec{\\theta})=U_{\\mathrm{loc}}^{(l)}\\left(\\theta_l\\right) U_{\\mathrm{ent}} \\ldots U_{\\mathrm{loc}}^{(2)}\\left(\\theta_2\\right) U_{\\mathrm{ent}} U_{\\mathrm{loc}}^{(1)}\\left(\\theta_1\\right) $$"
   ]
  },
  {
   "cell_type": "markdown",
   "metadata": {},
   "source": [
    "$$U_{\\text {loc }}^{(t)}\\left(\\theta_t\\right)=\\otimes_{m=1}^n U\\left(\\theta_{m, t}\\right) \\qquad U\\left(\\theta_{m, t}\\right)=e^{i \\frac{1}{2} \\theta_{m, t}^z Z_m} e^{i \\frac{1}{2} \\theta_{m, t}^y Y_m}$$"
   ]
  },
  {
   "cell_type": "markdown",
   "metadata": {},
   "source": [
    "$$U_{\\mathrm{ent}}=\\prod_{(i, j) \\in E} \\mathrm{CZ}(i, j)$$"
   ]
  },
  {
   "cell_type": "markdown",
   "metadata": {},
   "source": [
    "$$R Y(\\theta)=\\exp \\left(-i \\frac{\\theta}{2} Y\\right)=\\left(\\begin{array}{cc}\n",
    "\\cos \\left(\\frac{\\theta}{2}\\right) & -\\sin \\left(\\frac{\\theta}{2}\\right) \\\\\n",
    "\\sin \\left(\\frac{\\theta}{2}\\right) & \\cos \\left(\\frac{\\theta}{2}\\right)\n",
    "\\end{array}\\right)$$"
   ]
  },
  {
   "cell_type": "markdown",
   "metadata": {},
   "source": [
    "$$R Z(\\lambda)=\\exp \\left(-i \\frac{\\lambda}{2} Z\\right)=\\left(\\begin{array}{cc}\n",
    "e^{-i \\frac{\\lambda}{2}} & 0 \\\\\n",
    "0 & e^{i \\frac{\\lambda}{2}}\n",
    "\\end{array}\\right)$$"
   ]
  }
 ],
 "metadata": {
  "language_info": {
   "name": "python"
  }
 },
 "nbformat": 4,
 "nbformat_minor": 2
}
