{
 "cells": [
  {
   "cell_type": "code",
   "execution_count": 1,
   "metadata": {},
   "outputs": [],
   "source": [
    "import numpy as np\n",
    "import qiskit\n",
    "import qiskit_ibm_runtime\n",
    "from qiskit import QuantumCircuit\n",
    "from qiskit.circuit.library import ZZFeatureMap\n",
    "from qiskit.circuit.library import TwoLocal\n",
    "from qiskit_machine_learning.datasets import ad_hoc_data"
   ]
  },
  {
   "cell_type": "code",
   "execution_count": 2,
   "metadata": {},
   "outputs": [],
   "source": [
    "from qiskit_aer import AerSimulator\n",
    "sim = AerSimulator()"
   ]
  },
  {
   "cell_type": "markdown",
   "metadata": {},
   "source": [
    "# Ad Hoc Data"
   ]
  },
  {
   "cell_type": "code",
   "execution_count": 3,
   "metadata": {},
   "outputs": [
    {
     "data": {
      "image/png": "[encoded data removed]",
      "text/plain": [
       "<Figure size 640x480 with 1 Axes>"
      ]
     },
     "metadata": {},
     "output_type": "display_data"
    },
    {
     "name": "stdout",
     "output_type": "stream",
     "text": [
      "Training labels[-1 -1 -1 -1 -1 -1 -1 -1 -1 -1 -1 -1 -1 -1 -1 -1 -1 -1 -1 -1 -1 -1 -1 -1\n",
      " -1 -1 -1 -1 -1 -1 -1 -1 -1 -1 -1 -1 -1 -1 -1 -1  1  1  1  1  1  1  1  1\n",
      "  1  1  1  1  1  1  1  1  1  1  1  1  1  1  1  1  1  1  1  1  1  1  1  1\n",
      "  1  1  1  1  1  1  1  1]\n",
      "Test labels[-1 -1 -1 -1 -1 -1 -1 -1 -1 -1 -1 -1 -1 -1 -1 -1 -1 -1 -1 -1 -1 -1 -1 -1\n",
      " -1 -1 -1 -1 -1 -1 -1 -1 -1 -1 -1 -1 -1 -1 -1 -1  1  1  1  1  1  1  1  1\n",
      "  1  1  1  1  1  1  1  1  1  1  1  1  1  1  1  1  1  1  1  1  1  1  1  1\n",
      "  1  1  1  1  1  1  1  1]\n",
      "Size of training data(80, 2) (80,)\n",
      "Size of test data(80, 2) (80,)\n"
     ]
    }
   ],
   "source": [
    "train_features, train_labels, test_features, test_labels, adhoc_total = ad_hoc_data(\n",
    "    training_size=40,\n",
    "    test_size=40,\n",
    "    n=2,\n",
    "    gap=0.3,\n",
    "    plot_data=True,\n",
    "    one_hot=False,\n",
    "    include_sample_total=True,\n",
    ")\n",
    "train_labels = np.where(train_labels == 0, -1, 1)\n",
    "test_labels = np.where(test_labels == 0, -1, 1)\n",
    "\n",
    "print(\"Training labels\" + str(train_labels))\n",
    "print(\"Test labels\" + str(test_labels))\n",
    "print(\"Size of training data\" + str(train_features.shape) + \" \" + str(train_labels.shape))\n",
    "print(\"Size of test data\" + str(test_features.shape) + \" \" + str(test_labels.shape))\n"
   ]
  },
  {
   "cell_type": "markdown",
   "metadata": {},
   "source": [
    "# Feature Map"
   ]
  },
  {
   "cell_type": "markdown",
   "metadata": {},
   "source": [
    "$$\n",
    "Z = \\left(\\begin{array}{cc}\n",
    "1 & 0 \\\\\n",
    "0 & -1\n",
    "\\end{array}\\right)\n",
    "\\qquad\n",
    "Z_0Z_1 = \\left(\\begin{array}{cccc}\n",
    "1 & 0 & 0 & 0 \\\\\n",
    "0 & -1 & 0 & 0 \\\\\n",
    "0 & 0 & -1 & 0 \\\\\n",
    "0 & 0 & 0 & 1\n",
    "\\end{array}\\right)\n",
    "$$"
   ]
  },
  {
   "cell_type": "markdown",
   "metadata": {},
   "source": [
    "$$U_{\\Phi(\\vec{x})}=\\exp \\left(i [x_1 Z_1+x_2 Z_2+(\\pi-x_1)(\\pi-x_2) Z_1Z_2]\\right)=\\exp \\left(i x_1 Z_1\\right)*\\exp \\left(i x_2 Z_2\\right)*\\exp \\left(i (\\pi-x_1)(\\pi-x_2) Z_1Z_2\\right)$$"
   ]
  },
  {
   "cell_type": "markdown",
   "metadata": {},
   "source": [
    "$$P(\\lambda)=\\left(\\begin{array}{cc}\n",
    "1 & 0 \\\\\n",
    "0 & e^{i \\lambda}\n",
    "\\end{array}\\right)\n",
    "\\qquad \n",
    "P(-2\\lambda)=\\left(\\begin{array}{cc}\n",
    "1 & 0 \\\\\n",
    "0 & e^{-i 2\\lambda}\n",
    "\\end{array}\\right)\n",
    "=e^{-i \\lambda}*\\left(\\begin{array}{cc}\n",
    "e^{i \\lambda} & 0 \\\\\n",
    "0 & e^{-i \\lambda}\n",
    "\\end{array}\\right)\n",
    "$$"
   ]
  },
  {
   "cell_type": "markdown",
   "metadata": {},
   "source": [
    "$$\n",
    " \\exp \\left(i x_0 Z_0\\right) = \\left(\\begin{array}{cc}\n",
    "e^{i x_0} & 0 \\\\\n",
    "0 & e^{-i x_0}\n",
    "\\end{array}\\right)\n",
    "= e^{i x_0}*P(-2x_0)\n",
    "\\qquad \\exp \\left(i x_1 Z_1\\right) = \\left(\\begin{array}{cc}\n",
    "e^{i x_1} & 0 \\\\\n",
    "0 & e^{-i x_1}\n",
    "\\end{array}\\right)\n",
    "= e^{i x_1}*P(-2x_1)\n",
    "$$"
   ]
  },
  {
   "cell_type": "markdown",
   "metadata": {},
   "source": [
    "$$Z_0Z_1 = \\left(\\begin{array}{cccc}\n",
    "1 & 0 & 0 & 0 \\\\\n",
    "0 & -1 & 0 & 0 \\\\\n",
    "0 & 0 & -1 & 0 \\\\\n",
    "0 & 0 & 0 & 1\n",
    "\\end{array}\\right)\n",
    "\\qquad\n",
    "e^{i \\lambda Z_0 Z_1}=\\left(\\begin{array}{cccc}\n",
    "e^{i \\lambda} & 0 & 0 & 0 \\\\\n",
    "0 & e^{-i \\lambda} & 0 & 0 \\\\\n",
    "0 & 0 & e^{-i \\lambda} & 0 \\\\\n",
    "0 & 0 & 0 & e^{i \\lambda}\n",
    "\\end{array}\\right)=e^{-i \\lambda}*\\left(\\begin{array}{cc}\n",
    "P(-2\\lambda) & 0 \\\\\n",
    "0 & X P(-2\\lambda) X\n",
    "\\end{array}\\right)\n",
    "= e^{-i \\lambda}* [C X \\cdot(I \\otimes P(-2\\lambda)) \\cdot C X]\n",
    "$$"
   ]
  },
  {
   "cell_type": "markdown",
   "metadata": {},
   "source": [
    "$$\\text { since } X P(-2\\lambda) X=\\left(\\begin{array}{ll}\n",
    "0 & 1 \\\\\n",
    "1 & 0\n",
    "\\end{array}\\right)\\left(\\begin{array}{cc}\n",
    "e^{i \\lambda} & 0 \\\\\n",
    "0 & e^{-i \\lambda}\n",
    "\\end{array}\\right)\\left(\\begin{array}{ll}\n",
    "0 & 1 \\\\\n",
    "1 & 0\n",
    "\\end{array}\\right)=\\left(\\begin{array}{cc}\n",
    "e^{-i \\lambda} & 0 \\\\\n",
    "0 & e^{i \\lambda}\n",
    "\\end{array}\\right)\n",
    "$$"
   ]
  },
  {
   "cell_type": "code",
   "execution_count": 4,
   "metadata": {},
   "outputs": [],
   "source": [
    "def feature_map_custom(fm, x):\n",
    "    fm.h(0)\n",
    "    fm.h(1)\n",
    "    fm.barrier()\n",
    "    fm.p(-2*x[0], 0)\n",
    "    fm.p(-2*x[1], 1)\n",
    "    fm.cx(0, 1)\n",
    "    fm.p(-2*(np.pi-x[0])*(np.pi-x[1]), 1)\n",
    "    fm.cx(0, 1)\n",
    "    fm.barrier()\n",
    "    fm.h(0)\n",
    "    fm.h(1)\n",
    "    fm.barrier()\n",
    "    fm.p(-2*x[0], 0)\n",
    "    fm.p(-2*x[1], 1)\n",
    "    fm.cx(0, 1)\n",
    "    fm.p(-2*(np.pi-x[0])*(np.pi-x[1]), 1)\n",
    "    fm.cx(0, 1)"
   ]
  },
  {
   "cell_type": "code",
   "execution_count": 5,
   "metadata": {},
   "outputs": [
    {
     "data": {
      "image/png": "[encoded data removed]",
      "text/plain": [
       "<Figure size 1207.02x200.667 with 1 Axes>"
      ]
     },
     "execution_count": 5,
     "metadata": {},
     "output_type": "execute_result"
    }
   ],
   "source": [
    "fm = QuantumCircuit(2)\n",
    "feature_map_custom(fm, [1.0, 1.0])\n",
    "fm.decompose(\"U_phi\").draw(output='mpl')"
   ]
  },
  {
   "cell_type": "code",
   "execution_count": 6,
   "metadata": {},
   "outputs": [
    {
     "data": {
      "image/png": "[encoded data removed]",
      "text/plain": [
       "<Figure size 1541.46x200.667 with 1 Axes>"
      ]
     },
     "execution_count": 6,
     "metadata": {},
     "output_type": "execute_result"
    }
   ],
   "source": [
    "feature_map = ZZFeatureMap(feature_dimension=2, reps=2, insert_barriers=True, entanglement = 'full')\n",
    "feature_map.decompose().draw(output='mpl')"
   ]
  },
  {
   "cell_type": "code",
   "execution_count": 7,
   "metadata": {},
   "outputs": [
    {
     "name": "stdout",
     "output_type": "stream",
     "text": [
      "\n",
      "gate name: h\n",
      "qubit(s) acted on: [Qubit(QuantumRegister(2, 'q'), 0)]\n",
      "other paramters (such as angles): []\n",
      "\n",
      "gate name: h\n",
      "qubit(s) acted on: [Qubit(QuantumRegister(2, 'q'), 1)]\n",
      "other paramters (such as angles): []\n",
      "\n",
      "gate name: barrier\n",
      "qubit(s) acted on: [Qubit(QuantumRegister(2, 'q'), 0), Qubit(QuantumRegister(2, 'q'), 1)]\n",
      "other paramters (such as angles): []\n",
      "\n",
      "gate name: p\n",
      "qubit(s) acted on: [Qubit(QuantumRegister(2, 'q'), 0)]\n",
      "other paramters (such as angles): [ParameterExpression(2.0*x[0])]\n",
      "\n",
      "gate name: p\n",
      "qubit(s) acted on: [Qubit(QuantumRegister(2, 'q'), 1)]\n",
      "other paramters (such as angles): [ParameterExpression(2.0*x[1])]\n",
      "\n",
      "gate name: cx\n",
      "qubit(s) acted on: [Qubit(QuantumRegister(2, 'q'), 0), Qubit(QuantumRegister(2, 'q'), 1)]\n",
      "other paramters (such as angles): []\n",
      "\n",
      "gate name: p\n",
      "qubit(s) acted on: [Qubit(QuantumRegister(2, 'q'), 1)]\n",
      "other paramters (such as angles): [ParameterExpression(2.0*(3.14159265358979 - x[0])*(3.14159265358979 - x[1]))]\n",
      "\n",
      "gate name: cx\n",
      "qubit(s) acted on: [Qubit(QuantumRegister(2, 'q'), 0), Qubit(QuantumRegister(2, 'q'), 1)]\n",
      "other paramters (such as angles): []\n",
      "\n",
      "gate name: barrier\n",
      "qubit(s) acted on: [Qubit(QuantumRegister(2, 'q'), 0), Qubit(QuantumRegister(2, 'q'), 1)]\n",
      "other paramters (such as angles): []\n",
      "\n",
      "gate name: h\n",
      "qubit(s) acted on: [Qubit(QuantumRegister(2, 'q'), 0)]\n",
      "other paramters (such as angles): []\n",
      "\n",
      "gate name: h\n",
      "qubit(s) acted on: [Qubit(QuantumRegister(2, 'q'), 1)]\n",
      "other paramters (such as angles): []\n",
      "\n",
      "gate name: barrier\n",
      "qubit(s) acted on: [Qubit(QuantumRegister(2, 'q'), 0), Qubit(QuantumRegister(2, 'q'), 1)]\n",
      "other paramters (such as angles): []\n",
      "\n",
      "gate name: p\n",
      "qubit(s) acted on: [Qubit(QuantumRegister(2, 'q'), 0)]\n",
      "other paramters (such as angles): [ParameterExpression(2.0*x[0])]\n",
      "\n",
      "gate name: p\n",
      "qubit(s) acted on: [Qubit(QuantumRegister(2, 'q'), 1)]\n",
      "other paramters (such as angles): [ParameterExpression(2.0*x[1])]\n",
      "\n",
      "gate name: cx\n",
      "qubit(s) acted on: [Qubit(QuantumRegister(2, 'q'), 0), Qubit(QuantumRegister(2, 'q'), 1)]\n",
      "other paramters (such as angles): []\n",
      "\n",
      "gate name: p\n",
      "qubit(s) acted on: [Qubit(QuantumRegister(2, 'q'), 1)]\n",
      "other paramters (such as angles): [ParameterExpression(2.0*(3.14159265358979 - x[0])*(3.14159265358979 - x[1]))]\n",
      "\n",
      "gate name: cx\n",
      "qubit(s) acted on: [Qubit(QuantumRegister(2, 'q'), 0), Qubit(QuantumRegister(2, 'q'), 1)]\n",
      "other paramters (such as angles): []\n"
     ]
    }
   ],
   "source": [
    "for gate in feature_map.decompose().data:\n",
    "    print('\\ngate name:', gate[0].name)\n",
    "    print('qubit(s) acted on:', gate[1])\n",
    "    print('other paramters (such as angles):', gate[0].params)"
   ]
  },
  {
   "cell_type": "markdown",
   "metadata": {},
   "source": [
    "# Ansatz"
   ]
  },
  {
   "cell_type": "markdown",
   "metadata": {},
   "source": [
    "$$W(\\vec{\\theta})=U_{\\mathrm{loc}}^{(l)}\\left(\\theta_l\\right) U_{\\mathrm{ent}} \\ldots U_{\\mathrm{loc}}^{(2)}\\left(\\theta_2\\right) U_{\\mathrm{ent}} U_{\\mathrm{loc}}^{(1)}\\left(\\theta_1\\right) $$"
   ]
  },
  {
   "cell_type": "markdown",
   "metadata": {},
   "source": [
    "$$U_{\\text {loc }}^{(t)}\\left(\\theta_t\\right)=\\otimes_{m=1}^n U\\left(\\theta_{m, t}\\right) \\qquad U\\left(\\theta_{m, t}\\right)=e^{i \\frac{1}{2} \\theta_{m, t}^z Z_m} e^{i \\frac{1}{2} \\theta_{m, t}^y Y_m}$$"
   ]
  },
  {
   "cell_type": "markdown",
   "metadata": {},
   "source": [
    "$$U_{\\mathrm{ent}}=\\prod_{(i, j) \\in E} \\mathrm{CZ}(i, j)$$"
   ]
  },
  {
   "cell_type": "markdown",
   "metadata": {},
   "source": [
    "$$R Y(\\theta)=\\exp \\left(-i \\frac{\\theta}{2} Y\\right)=\\left(\\begin{array}{cc}\n",
    "\\cos \\left(\\frac{\\theta}{2}\\right) & -\\sin \\left(\\frac{\\theta}{2}\\right) \\\\\n",
    "\\sin \\left(\\frac{\\theta}{2}\\right) & \\cos \\left(\\frac{\\theta}{2}\\right)\n",
    "\\end{array}\\right)$$"
   ]
  },
  {
   "cell_type": "markdown",
   "metadata": {},
   "source": [
    "$$R Z(\\lambda)=\\exp \\left(-i \\frac{\\lambda}{2} Z\\right)=\\left(\\begin{array}{cc}\n",
    "e^{-i \\frac{\\lambda}{2}} & 0 \\\\\n",
    "0 & e^{i \\frac{\\lambda}{2}}\n",
    "\\end{array}\\right)$$"
   ]
  },
  {
   "cell_type": "code",
   "execution_count": 8,
   "metadata": {},
   "outputs": [],
   "source": [
    "def ansatz_custom(ansatz, theta, reps=1):\n",
    "    for i in range(reps+1):\n",
    "        if i!=0 & i!=reps:\n",
    "            ansatz.cz(0, 1)\n",
    "        ansatz.ry(theta[0+4*i], 0)\n",
    "        ansatz.ry(theta[1+4*i], 1)\n",
    "        ansatz.rz(theta[2+4*i], 0)\n",
    "        ansatz.rz(theta[3+4*i], 1)"
   ]
  },
  {
   "cell_type": "code",
   "execution_count": 9,
   "metadata": {},
   "outputs": [
    {
     "data": {
      "image/png": "[encoded data removed]",
      "text/plain": [
       "<Figure size 1039.79x200.667 with 1 Axes>"
      ]
     },
     "execution_count": 9,
     "metadata": {},
     "output_type": "execute_result"
    }
   ],
   "source": [
    "ansatz = QuantumCircuit(2)\n",
    "ansatz_custom(ansatz, [1.0, 1.0, 1.0, 1.0, 1.0, 1.0, 1.0, 1.0, 1.0, 1.0, 1.0, 1.0, 1.0, 1.0, 1.0, 1.0], 3)\n",
    "ansatz.draw(output='mpl')"
   ]
  },
  {
   "cell_type": "code",
   "execution_count": 10,
   "metadata": {},
   "outputs": [
    {
     "data": {
      "image/png": "[encoded data removed]",
      "text/plain": [
       "<Figure size 1039.79x200.667 with 1 Axes>"
      ]
     },
     "execution_count": 10,
     "metadata": {},
     "output_type": "execute_result"
    }
   ],
   "source": [
    "var_form = TwoLocal(2, ['ry', 'rz'], 'cz', reps=3)\n",
    "var_form.decompose().draw(output='mpl')"
   ]
  },
  {
   "cell_type": "code",
   "execution_count": 11,
   "metadata": {},
   "outputs": [
    {
     "name": "stdout",
     "output_type": "stream",
     "text": [
      "\n",
      "gate name: ry\n",
      "qubit(s) acted on: [Qubit(QuantumRegister(2, 'q'), 0)]\n",
      "other paramters (such as angles): [ParameterVectorElement(θ[0])]\n",
      "\n",
      "gate name: rz\n",
      "qubit(s) acted on: [Qubit(QuantumRegister(2, 'q'), 0)]\n",
      "other paramters (such as angles): [ParameterVectorElement(θ[2])]\n",
      "\n",
      "gate name: ry\n",
      "qubit(s) acted on: [Qubit(QuantumRegister(2, 'q'), 1)]\n",
      "other paramters (such as angles): [ParameterVectorElement(θ[1])]\n",
      "\n",
      "gate name: rz\n",
      "qubit(s) acted on: [Qubit(QuantumRegister(2, 'q'), 1)]\n",
      "other paramters (such as angles): [ParameterVectorElement(θ[3])]\n",
      "\n",
      "gate name: cz\n",
      "qubit(s) acted on: [Qubit(QuantumRegister(2, 'q'), 0), Qubit(QuantumRegister(2, 'q'), 1)]\n",
      "other paramters (such as angles): []\n",
      "\n",
      "gate name: ry\n",
      "qubit(s) acted on: [Qubit(QuantumRegister(2, 'q'), 0)]\n",
      "other paramters (such as angles): [ParameterVectorElement(θ[4])]\n",
      "\n",
      "gate name: rz\n",
      "qubit(s) acted on: [Qubit(QuantumRegister(2, 'q'), 0)]\n",
      "other paramters (such as angles): [ParameterVectorElement(θ[6])]\n",
      "\n",
      "gate name: ry\n",
      "qubit(s) acted on: [Qubit(QuantumRegister(2, 'q'), 1)]\n",
      "other paramters (such as angles): [ParameterVectorElement(θ[5])]\n",
      "\n",
      "gate name: rz\n",
      "qubit(s) acted on: [Qubit(QuantumRegister(2, 'q'), 1)]\n",
      "other paramters (such as angles): [ParameterVectorElement(θ[7])]\n",
      "\n",
      "gate name: cz\n",
      "qubit(s) acted on: [Qubit(QuantumRegister(2, 'q'), 0), Qubit(QuantumRegister(2, 'q'), 1)]\n",
      "other paramters (such as angles): []\n",
      "\n",
      "gate name: ry\n",
      "qubit(s) acted on: [Qubit(QuantumRegister(2, 'q'), 0)]\n",
      "other paramters (such as angles): [ParameterVectorElement(θ[8])]\n",
      "\n",
      "gate name: rz\n",
      "qubit(s) acted on: [Qubit(QuantumRegister(2, 'q'), 0)]\n",
      "other paramters (such as angles): [ParameterVectorElement(θ[10])]\n",
      "\n",
      "gate name: ry\n",
      "qubit(s) acted on: [Qubit(QuantumRegister(2, 'q'), 1)]\n",
      "other paramters (such as angles): [ParameterVectorElement(θ[9])]\n",
      "\n",
      "gate name: rz\n",
      "qubit(s) acted on: [Qubit(QuantumRegister(2, 'q'), 1)]\n",
      "other paramters (such as angles): [ParameterVectorElement(θ[11])]\n",
      "\n",
      "gate name: cz\n",
      "qubit(s) acted on: [Qubit(QuantumRegister(2, 'q'), 0), Qubit(QuantumRegister(2, 'q'), 1)]\n",
      "other paramters (such as angles): []\n",
      "\n",
      "gate name: ry\n",
      "qubit(s) acted on: [Qubit(QuantumRegister(2, 'q'), 0)]\n",
      "other paramters (such as angles): [ParameterVectorElement(θ[12])]\n",
      "\n",
      "gate name: rz\n",
      "qubit(s) acted on: [Qubit(QuantumRegister(2, 'q'), 0)]\n",
      "other paramters (such as angles): [ParameterVectorElement(θ[14])]\n",
      "\n",
      "gate name: ry\n",
      "qubit(s) acted on: [Qubit(QuantumRegister(2, 'q'), 1)]\n",
      "other paramters (such as angles): [ParameterVectorElement(θ[13])]\n",
      "\n",
      "gate name: rz\n",
      "qubit(s) acted on: [Qubit(QuantumRegister(2, 'q'), 1)]\n",
      "other paramters (such as angles): [ParameterVectorElement(θ[15])]\n"
     ]
    }
   ],
   "source": [
    "for gate in var_form.decompose().data:\n",
    "    print('\\ngate name:', gate[0].name)\n",
    "    print('qubit(s) acted on:', gate[1])\n",
    "    print('other paramters (such as angles):', gate[0].params)"
   ]
  },
  {
   "cell_type": "code",
   "execution_count": 12,
   "metadata": {},
   "outputs": [],
   "source": [
    "def sigmoid(x):\n",
    "    return 1/(1+np.exp(-x))"
   ]
  },
  {
   "cell_type": "code",
   "execution_count": 13,
   "metadata": {},
   "outputs": [],
   "source": [
    "def single_circuit_evaluation(x, theta, reps=3, shots=4000):\n",
    "    qc = QuantumCircuit(2)\n",
    "    feature_map_custom(qc, x)\n",
    "    ansatz_custom(qc, theta, reps)\n",
    "    qc.measure_all()\n",
    "    job = sim.run(qc, shots=shots)\n",
    "    result = job.result()\n",
    "    counts = result.get_counts(qc)\n",
    "    return counts"
   ]
  },
  {
   "cell_type": "code",
   "execution_count": 14,
   "metadata": {},
   "outputs": [
    {
     "name": "stdout",
     "output_type": "stream",
     "text": [
      "{'11': 415, '10': 863, '00': 1793, '01': 929}\n"
     ]
    }
   ],
   "source": [
    "x = [1.0, 1.0]\n",
    "theta = [1.0, 1.0, 1.0, 1.0, 1.0, 1.0, 1.0, 1.0, 1.0, 1.0, 1.0, 1.0, 1.0, 1.0, 1.0, 1.0]\n",
    "counts = single_circuit_evaluation(x, theta)\n",
    "print(counts)"
   ]
  },
  {
   "cell_type": "code",
   "execution_count": 15,
   "metadata": {},
   "outputs": [],
   "source": [
    "def compute_empirical_risk(train_features, train_labels, theta, shots=2000):\n",
    "    r = shots/10\n",
    "    y = 0\n",
    "    b = 0\n",
    "\n",
    "    empirical_risk = 0\n",
    "    for i in range(len(train_labels)):\n",
    "        py_empirical = 0\n",
    "        counts = single_circuit_evaluation(train_features[i], theta, 3, shots)\n",
    "        \n",
    "        p_0 = (counts.get(\"00\", 0)+counts.get(\"11\", 0))/shots\n",
    "        p_1 = (counts.get(\"01\", 0)+counts.get(\"10\", 0))/shots\n",
    "        if train_labels[i] == 1:\n",
    "            py_empirical = p_1\n",
    "            y = 1\n",
    "        else:\n",
    "            py_empirical = p_0\n",
    "            y = -1\n",
    "        top = np.sqrt(r)*(0.5-(py_empirical-0.5*(y*b)))\n",
    "        bottom = np.sqrt(2*(1-py_empirical)*py_empirical)\n",
    "        empirical_risk += sigmoid(top/bottom)   \n",
    "    empirical_risk /= len(train_labels)\n",
    "    return empirical_risk\n"
   ]
  },
  {
   "cell_type": "code",
   "execution_count": 16,
   "metadata": {},
   "outputs": [],
   "source": [
    "def compute_grad(train_features, train_labels, w, ck, shots=2000):\n",
    "    deltak = np.random.choice([-1, 1], len(w))\n",
    "    lossplus = compute_empirical_risk(train_features, train_labels, w+ck*deltak, shots)\n",
    "    lossminus = compute_empirical_risk(train_features, train_labels, w-ck*deltak, shots)\n",
    "    return (lossplus-lossminus)/(2*ck*deltak), np.abs(lossplus-lossminus)/2"
   ]
  },
  {
   "cell_type": "code",
   "execution_count": 17,
   "metadata": {},
   "outputs": [],
   "source": [
    "def init_a(train_features, train_labels, w, c, shots=2000):\n",
    "    steps = 25\n",
    "    avg_magnitudes = 0\n",
    "    target_magnitudes = 2 * np.pi / 10\n",
    "    for _ in range(steps):\n",
    "        grad, _ = compute_grad(train_features, train_labels, w, c, shots)\n",
    "        avg_magnitudes += np.abs(grad/(2*c))\n",
    "    avg_magnitudes /= steps\n",
    "    return target_magnitudes / (avg_magnitudes)\n",
    "    "
   ]
  },
  {
   "cell_type": "code",
   "execution_count": 18,
   "metadata": {},
   "outputs": [],
   "source": [
    "def do_spsa(train_features, train_labels, w, N=100, c = 0.2, alpha = 0.602, gamma = 0.101, delta_w0 = 2, shots=2000):\n",
    "    A = 0\n",
    "    #A = N * 0.1\n",
    "    #grad, _ = compute_grad(train_features, train_labels, w, c, shots)\n",
    "    #magnitude_g0 = np.abs(grad).mean()\n",
    "    #a = (delta_w0 * ((A+1)**alpha)) / magnitude_g0\n",
    "    a = init_a(train_features, train_labels, w, c, shots)\n",
    "\n",
    "    loss = 0\n",
    "\n",
    "    for k in range(1, N):\n",
    "        ak = a / (A + k)**alpha\n",
    "        ck = c / (k**gamma)\n",
    "        gk, loss  = compute_grad(train_features, train_labels, w, ck, shots)\n",
    "        w = w - ak*gk\n",
    "\n",
    "        if loss < 0.05:\n",
    "            break\n",
    "\n",
    "    return w, loss"
   ]
  },
  {
   "cell_type": "code",
   "execution_count": 19,
   "metadata": {},
   "outputs": [],
   "source": [
    "def training_phase(train_features, train_labels, shots=2000):\n",
    "    theta = [0, 0, 0, 0, 0, 0, 0, 0, 0, 0, 0, 0, 0, 0, 0, 0]\n",
    "    \n",
    "    w = theta\n",
    "    theta, loss = do_spsa(train_features, train_labels, w, shots=shots)\n",
    "    print('theta:', theta)\n",
    "    print('loss:', loss)\n",
    "    return theta"
   ]
  },
  {
   "cell_type": "code",
   "execution_count": 20,
   "metadata": {},
   "outputs": [
    {
     "name": "stdout",
     "output_type": "stream",
     "text": [
      "theta: [-0.02301053 -0.02301053 -0.02301053 -0.02301053  0.02301053  0.02301053\n",
      "  0.02301053  0.02301053 -0.02301053 -0.02301053 -0.02301053 -0.02301053\n",
      "  0.02301053 -0.02301053 -0.02301053  0.02301053]\n",
      "loss: 0.0043314480915809805\n"
     ]
    }
   ],
   "source": [
    "theta_optimal = training_phase(train_features, train_labels, shots=10000)"
   ]
  },
  {
   "cell_type": "code",
   "execution_count": 21,
   "metadata": {},
   "outputs": [],
   "source": [
    "def classification_phase(test_features, theta_optimal, shots=10000):\n",
    "    predictions = []\n",
    "    for i in range(len(test_features)):\n",
    "        counts = single_circuit_evaluation(test_features[i], theta_optimal, 3, shots)\n",
    "        p_0 = (counts.get(\"00\", 0)+counts.get(\"11\", 0))/shots\n",
    "        p_1 = (counts.get(\"01\", 0)+counts.get(\"10\", 0))/shots\n",
    "        if p_0 > p_1:\n",
    "            predictions.append(-1)\n",
    "        else:\n",
    "            predictions.append(1)\n",
    "    return predictions"
   ]
  },
  {
   "cell_type": "code",
   "execution_count": 22,
   "metadata": {},
   "outputs": [
    {
     "name": "stdout",
     "output_type": "stream",
     "text": [
      "Test labels\n",
      "[-1 -1 -1 -1 -1 -1 -1 -1 -1 -1 -1 -1 -1 -1 -1 -1 -1 -1 -1 -1 -1 -1 -1 -1\n",
      " -1 -1 -1 -1 -1 -1 -1 -1 -1 -1 -1 -1 -1 -1 -1 -1  1  1  1  1  1  1  1  1\n",
      "  1  1  1  1  1  1  1  1  1  1  1  1  1  1  1  1  1  1  1  1  1  1  1  1\n",
      "  1  1  1  1  1  1  1  1]\n"
     ]
    }
   ],
   "source": [
    "print(\"Test labels\")\n",
    "print(test_labels)"
   ]
  },
  {
   "cell_type": "code",
   "execution_count": 23,
   "metadata": {},
   "outputs": [
    {
     "name": "stdout",
     "output_type": "stream",
     "text": [
      "Predicted labels\n",
      "[-1, 1, 1, 1, -1, 1, 1, -1, 1, -1, -1, -1, -1, -1, 1, 1, 1, 1, 1, 1, -1, 1, 1, 1, -1, -1, -1, -1, 1, 1, -1, -1, -1, 1, -1, -1, 1, 1, -1, -1, 1, -1, 1, -1, 1, 1, 1, 1, 1, -1, 1, 1, -1, -1, 1, -1, 1, 1, 1, -1, -1, -1, 1, 1, 1, 1, 1, -1, 1, -1, 1, 1, 1, -1, 1, -1, -1, 1, 1, 1]\n"
     ]
    }
   ],
   "source": [
    "predict_labels = classification_phase(train_features, theta_optimal)\n",
    "print(\"Predicted labels\")\n",
    "print(predict_labels)"
   ]
  },
  {
   "cell_type": "code",
   "execution_count": 24,
   "metadata": {},
   "outputs": [
    {
     "name": "stdout",
     "output_type": "stream",
     "text": [
      "Success rate: 0.575\n"
     ]
    }
   ],
   "source": [
    "success_rate = np.sum(np.equal(train_labels, predict_labels))/len(train_labels)\n",
    "print(\"Success rate: \" + str(success_rate))"
   ]
  }
 ],
 "metadata": {
  "kernelspec": {
   "display_name": "Python 3",
   "language": "python",
   "name": "python3"
  },
  "language_info": {
   "codemirror_mode": {
    "name": "ipython",
    "version": 3
   },
   "file_extension": ".py",
   "mimetype": "text/x-python",
   "name": "python",
   "nbconvert_exporter": "python",
   "pygments_lexer": "ipython3",
   "version": "3.12.2"
  }
 },
 "nbformat": 4,
 "nbformat_minor": 2
}
