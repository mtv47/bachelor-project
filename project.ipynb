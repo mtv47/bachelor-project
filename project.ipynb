{
 "cells": [
  {
   "cell_type": "code",
   "execution_count": 1,
   "metadata": {},
   "outputs": [],
   "source": [
    "import numpy as np\n",
    "import qiskit\n",
    "import qiskit_ibm_runtime\n",
    "from qiskit import QuantumCircuit\n",
    "from qiskit.circuit.library import ZZFeatureMap\n",
    "from qiskit.circuit.library import TwoLocal\n",
    "from qiskit_machine_learning.datasets import ad_hoc_data"
   ]
  },
  {
   "cell_type": "code",
   "execution_count": 2,
   "metadata": {},
   "outputs": [],
   "source": [
    "from qiskit_aer import AerSimulator\n",
    "sim = AerSimulator()"
   ]
  },
  {
   "cell_type": "markdown",
   "metadata": {},
   "source": [
    "# Ad Hoc Data"
   ]
  },
  {
   "cell_type": "code",
   "execution_count": 3,
   "metadata": {},
   "outputs": [
    {
     "data": {
      "image/png": "[encoded data removed]",
      "text/plain": [
       "<Figure size 640x480 with 1 Axes>"
      ]
     },
     "metadata": {},
     "output_type": "display_data"
    },
    {
     "name": "stdout",
     "output_type": "stream",
     "text": [
      "Training labels[-1 -1 -1 -1 -1 -1 -1 -1 -1 -1 -1 -1 -1 -1 -1 -1 -1 -1 -1 -1 -1 -1 -1 -1\n",
      " -1 -1 -1 -1 -1 -1 -1 -1 -1 -1 -1 -1 -1 -1 -1 -1  1  1  1  1  1  1  1  1\n",
      "  1  1  1  1  1  1  1  1  1  1  1  1  1  1  1  1  1  1  1  1  1  1  1  1\n",
      "  1  1  1  1  1  1  1  1]\n",
      "Test labels[-1 -1 -1 -1 -1 -1 -1 -1 -1 -1 -1 -1 -1 -1 -1 -1 -1 -1 -1 -1 -1 -1 -1 -1\n",
      " -1 -1 -1 -1 -1 -1 -1 -1 -1 -1 -1 -1 -1 -1 -1 -1  1  1  1  1  1  1  1  1\n",
      "  1  1  1  1  1  1  1  1  1  1  1  1  1  1  1  1  1  1  1  1  1  1  1  1\n",
      "  1  1  1  1  1  1  1  1]\n",
      "Size of training data(80, 2) (80,)\n",
      "Size of test data(80, 2) (80,)\n"
     ]
    }
   ],
   "source": [
    "train_features, train_labels, test_features, test_labels, adhoc_total = ad_hoc_data(\n",
    "    training_size=40,\n",
    "    test_size=40,\n",
    "    n=2,\n",
    "    gap=0.3,\n",
    "    plot_data=True,\n",
    "    one_hot=False,\n",
    "    include_sample_total=True,\n",
    ")\n",
    "train_labels = np.where(train_labels == 0, -1, 1)\n",
    "test_labels = np.where(test_labels == 0, -1, 1)\n",
    "\n",
    "print(\"Training labels\" + str(train_labels))\n",
    "print(\"Test labels\" + str(test_labels))\n",
    "print(\"Size of training data\" + str(train_features.shape) + \" \" + str(train_labels.shape))\n",
    "print(\"Size of test data\" + str(test_features.shape) + \" \" + str(test_labels.shape))\n"
   ]
  },
  {
   "cell_type": "markdown",
   "metadata": {},
   "source": [
    "# Feature Map"
   ]
  },
  {
   "cell_type": "markdown",
   "metadata": {},
   "source": [
    "$$\n",
    "Z = \\left(\\begin{array}{cc}\n",
    "1 & 0 \\\\\n",
    "0 & -1\n",
    "\\end{array}\\right)\n",
    "\\qquad\n",
    "Z_0Z_1 = \\left(\\begin{array}{cccc}\n",
    "1 & 0 & 0 & 0 \\\\\n",
    "0 & -1 & 0 & 0 \\\\\n",
    "0 & 0 & -1 & 0 \\\\\n",
    "0 & 0 & 0 & 1\n",
    "\\end{array}\\right)\n",
    "$$"
   ]
  },
  {
   "cell_type": "markdown",
   "metadata": {},
   "source": [
    "$$U_{\\Phi(\\vec{x})}=\\exp \\left(i [x_1 Z_1+x_2 Z_2+(\\pi-x_1)(\\pi-x_2) Z_1Z_2]\\right)=\\exp \\left(i x_1 Z_1\\right)*\\exp \\left(i x_2 Z_2\\right)*\\exp \\left(i (\\pi-x_1)(\\pi-x_2) Z_1Z_2\\right)$$"
   ]
  },
  {
   "cell_type": "markdown",
   "metadata": {},
   "source": [
    "$$P(\\lambda)=\\left(\\begin{array}{cc}\n",
    "1 & 0 \\\\\n",
    "0 & e^{i \\lambda}\n",
    "\\end{array}\\right)\n",
    "\\qquad \n",
    "P(-2\\lambda)=\\left(\\begin{array}{cc}\n",
    "1 & 0 \\\\\n",
    "0 & e^{-i 2\\lambda}\n",
    "\\end{array}\\right)\n",
    "=e^{-i \\lambda}*\\left(\\begin{array}{cc}\n",
    "e^{i \\lambda} & 0 \\\\\n",
    "0 & e^{-i \\lambda}\n",
    "\\end{array}\\right)\n",
    "$$"
   ]
  },
  {
   "cell_type": "markdown",
   "metadata": {},
   "source": [
    "$$\n",
    " \\exp \\left(i x_0 Z_0\\right) = \\left(\\begin{array}{cc}\n",
    "e^{i x_0} & 0 \\\\\n",
    "0 & e^{-i x_0}\n",
    "\\end{array}\\right)\n",
    "= e^{i x_0}*P(-2x_0)\n",
    "\\qquad \\exp \\left(i x_1 Z_1\\right) = \\left(\\begin{array}{cc}\n",
    "e^{i x_1} & 0 \\\\\n",
    "0 & e^{-i x_1}\n",
    "\\end{array}\\right)\n",
    "= e^{i x_1}*P(-2x_1)\n",
    "$$"
   ]
  },
  {
   "cell_type": "markdown",
   "metadata": {},
   "source": [
    "$$Z_0Z_1 = \\left(\\begin{array}{cccc}\n",
    "1 & 0 & 0 & 0 \\\\\n",
    "0 & -1 & 0 & 0 \\\\\n",
    "0 & 0 & -1 & 0 \\\\\n",
    "0 & 0 & 0 & 1\n",
    "\\end{array}\\right)\n",
    "\\qquad\n",
    "e^{i \\lambda Z_0 Z_1}=\\left(\\begin{array}{cccc}\n",
    "e^{i \\lambda} & 0 & 0 & 0 \\\\\n",
    "0 & e^{-i \\lambda} & 0 & 0 \\\\\n",
    "0 & 0 & e^{-i \\lambda} & 0 \\\\\n",
    "0 & 0 & 0 & e^{i \\lambda}\n",
    "\\end{array}\\right)=e^{-i \\lambda}*\\left(\\begin{array}{cc}\n",
    "P(-2\\lambda) & 0 \\\\\n",
    "0 & X P(-2\\lambda) X\n",
    "\\end{array}\\right)\n",
    "= e^{-i \\lambda}* [C X \\cdot(I \\otimes P(-2\\lambda)) \\cdot C X]\n",
    "$$"
   ]
  },
  {
   "cell_type": "markdown",
   "metadata": {},
   "source": [
    "$$\\text { since } X P(-2\\lambda) X=\\left(\\begin{array}{ll}\n",
    "0 & 1 \\\\\n",
    "1 & 0\n",
    "\\end{array}\\right)\\left(\\begin{array}{cc}\n",
    "e^{i \\lambda} & 0 \\\\\n",
    "0 & e^{-i \\lambda}\n",
    "\\end{array}\\right)\\left(\\begin{array}{ll}\n",
    "0 & 1 \\\\\n",
    "1 & 0\n",
    "\\end{array}\\right)=\\left(\\begin{array}{cc}\n",
    "e^{-i \\lambda} & 0 \\\\\n",
    "0 & e^{i \\lambda}\n",
    "\\end{array}\\right)\n",
    "$$"
   ]
  },
  {
   "cell_type": "code",
   "execution_count": 4,
   "metadata": {},
   "outputs": [],
   "source": [
    "def feature_map_custom(fm, x):\n",
    "    fm.h(0)\n",
    "    fm.h(1)\n",
    "    fm.barrier()\n",
    "    fm.p(-2*x[0], 0)\n",
    "    fm.p(-2*x[1], 1)\n",
    "    fm.cx(0, 1)\n",
    "    fm.p(-2*(np.pi-x[0])*(np.pi-x[1]), 1)\n",
    "    fm.cx(0, 1)\n",
    "    fm.barrier()\n",
    "    fm.h(0)\n",
    "    fm.h(1)\n",
    "    fm.barrier()\n",
    "    fm.p(-2*x[0], 0)\n",
    "    fm.p(-2*x[1], 1)\n",
    "    fm.cx(0, 1)\n",
    "    fm.p(-2*(np.pi-x[0])*(np.pi-x[1]), 1)\n",
    "    fm.cx(0, 1)"
   ]
  },
  {
   "cell_type": "code",
   "execution_count": 5,
   "metadata": {},
   "outputs": [
    {
     "data": {
      "image/png": "[encoded data removed]",
      "text/plain": [
       "<Figure size 1207.02x200.667 with 1 Axes>"
      ]
     },
     "execution_count": 5,
     "metadata": {},
     "output_type": "execute_result"
    }
   ],
   "source": [
    "fm = QuantumCircuit(2)\n",
    "feature_map_custom(fm, [1.0, 1.0])\n",
    "fm.decompose(\"U_phi\").draw(output='mpl')"
   ]
  },
  {
   "cell_type": "code",
   "execution_count": 6,
   "metadata": {},
   "outputs": [
    {
     "data": {
      "image/png": "[encoded data removed]",
      "text/plain": [
       "<Figure size 1541.46x200.667 with 1 Axes>"
      ]
     },
     "execution_count": 6,
     "metadata": {},
     "output_type": "execute_result"
    }
   ],
   "source": [
    "feature_map = ZZFeatureMap(feature_dimension=2, reps=2, insert_barriers=True, entanglement = 'full')\n",
    "feature_map.decompose().draw(output='mpl')"
   ]
  },
  {
   "cell_type": "markdown",
   "metadata": {},
   "source": [
    "# Ansatz"
   ]
  },
  {
   "cell_type": "markdown",
   "metadata": {},
   "source": [
    "$$W(\\vec{\\theta})=U_{\\mathrm{loc}}^{(l)}\\left(\\theta_l\\right) U_{\\mathrm{ent}} \\ldots U_{\\mathrm{loc}}^{(2)}\\left(\\theta_2\\right) U_{\\mathrm{ent}} U_{\\mathrm{loc}}^{(1)}\\left(\\theta_1\\right) $$"
   ]
  },
  {
   "cell_type": "markdown",
   "metadata": {},
   "source": [
    "$$U_{\\text {loc }}^{(t)}\\left(\\theta_t\\right)=\\otimes_{m=1}^n U\\left(\\theta_{m, t}\\right) \\qquad U\\left(\\theta_{m, t}\\right)=e^{i \\frac{1}{2} \\theta_{m, t}^z Z_m} e^{i \\frac{1}{2} \\theta_{m, t}^y Y_m}$$"
   ]
  },
  {
   "cell_type": "markdown",
   "metadata": {},
   "source": [
    "$$U_{\\mathrm{ent}}=\\prod_{(i, j) \\in E} \\mathrm{CZ}(i, j)$$"
   ]
  },
  {
   "cell_type": "markdown",
   "metadata": {},
   "source": [
    "$$R Y(\\theta)=\\exp \\left(-i \\frac{\\theta}{2} Y\\right)=\\left(\\begin{array}{cc}\n",
    "\\cos \\left(\\frac{\\theta}{2}\\right) & -\\sin \\left(\\frac{\\theta}{2}\\right) \\\\\n",
    "\\sin \\left(\\frac{\\theta}{2}\\right) & \\cos \\left(\\frac{\\theta}{2}\\right)\n",
    "\\end{array}\\right)$$"
   ]
  },
  {
   "cell_type": "markdown",
   "metadata": {},
   "source": [
    "$$R Z(\\lambda)=\\exp \\left(-i \\frac{\\lambda}{2} Z\\right)=\\left(\\begin{array}{cc}\n",
    "e^{-i \\frac{\\lambda}{2}} & 0 \\\\\n",
    "0 & e^{i \\frac{\\lambda}{2}}\n",
    "\\end{array}\\right)$$"
   ]
  },
  {
   "cell_type": "code",
   "execution_count": 7,
   "metadata": {},
   "outputs": [],
   "source": [
    "def ansatz_custom(ansatz, theta, reps=1):\n",
    "    for i in range(reps+1):\n",
    "        if i!=0 & i!=reps:\n",
    "            ansatz.cz(0, 1)\n",
    "        ansatz.ry(theta[0+4*i], 0)\n",
    "        ansatz.ry(theta[1+4*i], 1)\n",
    "        ansatz.rz(theta[2+4*i], 0)\n",
    "        ansatz.rz(theta[3+4*i], 1)"
   ]
  },
  {
   "cell_type": "code",
   "execution_count": 8,
   "metadata": {},
   "outputs": [
    {
     "data": {
      "image/png": "[encoded data removed]",
      "text/plain": [
       "<Figure size 1039.79x200.667 with 1 Axes>"
      ]
     },
     "execution_count": 8,
     "metadata": {},
     "output_type": "execute_result"
    }
   ],
   "source": [
    "ansatz = QuantumCircuit(2)\n",
    "ansatz_custom(ansatz, [1.0, 1.0, 1.0, 1.0, 1.0, 1.0, 1.0, 1.0, 1.0, 1.0, 1.0, 1.0, 1.0, 1.0, 1.0, 1.0], 3)\n",
    "ansatz.draw(output='mpl')"
   ]
  },
  {
   "cell_type": "code",
   "execution_count": 9,
   "metadata": {},
   "outputs": [
    {
     "data": {
      "image/png": "[encoded data removed]",
      "text/plain": [
       "<Figure size 1039.79x200.667 with 1 Axes>"
      ]
     },
     "execution_count": 9,
     "metadata": {},
     "output_type": "execute_result"
    }
   ],
   "source": [
    "var_form = TwoLocal(2, ['ry', 'rz'], 'cz', reps=3)\n",
    "var_form.decompose().draw(output='mpl')"
   ]
  },
  {
   "cell_type": "code",
   "execution_count": 10,
   "metadata": {},
   "outputs": [],
   "source": [
    "def sigmoid(x):\n",
    "    return 1/(1+np.exp(-x))"
   ]
  },
  {
   "cell_type": "code",
   "execution_count": 11,
   "metadata": {},
   "outputs": [],
   "source": [
    "def single_circuit_evaluation(x, theta, shots):\n",
    "    qc = QuantumCircuit(2)\n",
    "    feature_map_custom(qc, x)\n",
    "    ansatz_custom(qc, theta, 3)\n",
    "    qc.measure_all()\n",
    "    job = sim.run(qc, shots=shots)\n",
    "    result = job.result()\n",
    "    counts = result.get_counts(qc)\n",
    "    return counts"
   ]
  },
  {
   "cell_type": "code",
   "execution_count": 12,
   "metadata": {},
   "outputs": [],
   "source": [
    "def compute_empirical_risk(train_features, train_labels, w, shots):\n",
    "    r = shots/10\n",
    "    y = 0\n",
    "    theta = w[:-1]\n",
    "    b = w[-1]\n",
    "\n",
    "    empirical_risk = 0\n",
    "    for i in range(len(train_labels)):\n",
    "        py_empirical = 0\n",
    "        counts = single_circuit_evaluation(train_features[i], theta, shots)\n",
    "        \n",
    "        p_0 = (counts.get(\"00\", 0)+counts.get(\"11\", 0))/shots\n",
    "        p_1 = (counts.get(\"01\", 0)+counts.get(\"10\", 0))/shots\n",
    "        if train_labels[i] == 1:\n",
    "            py_empirical = p_1\n",
    "            y = 1\n",
    "        else:\n",
    "            py_empirical = p_0\n",
    "            y = -1\n",
    "        top = np.sqrt(r)*(0.5-(py_empirical-0.5*(y*b)))\n",
    "        bottom = np.sqrt(2*(1-py_empirical)*py_empirical)\n",
    "        empirical_risk += sigmoid(top/bottom)   \n",
    "    empirical_risk /= len(train_labels)\n",
    "    return empirical_risk\n"
   ]
  },
  {
   "cell_type": "code",
   "execution_count": 13,
   "metadata": {},
   "outputs": [],
   "source": [
    "def compute_grad(train_features, train_labels, w, ck, shots):\n",
    "    deltak = np.random.choice([-1, 1], len(w))\n",
    "\n",
    "    lossplus = compute_empirical_risk(train_features, train_labels, w+ck*deltak, shots)\n",
    "    lossminus = compute_empirical_risk(train_features, train_labels, w-ck*deltak, shots)\n",
    "\n",
    "    avg_loss = (lossplus+lossminus)/2\n",
    "    grad = (lossplus-lossminus)/(2*ck*(deltak))\n",
    "    \n",
    "    return grad, avg_loss"
   ]
  },
  {
   "cell_type": "code",
   "execution_count": 14,
   "metadata": {},
   "outputs": [],
   "source": [
    "def init_a(train_features, train_labels, w, c, shots):\n",
    "    steps = 25\n",
    "    avg_magnitudes = 0\n",
    "    target_magnitudes = 2 * np.pi / 10\n",
    "    for _ in range(steps):\n",
    "        deltak = np.random.choice([-1, 1], len(w))\n",
    "\n",
    "        lossplus = compute_empirical_risk(train_features, train_labels, w+c*deltak, shots)\n",
    "        lossminus = compute_empirical_risk(train_features, train_labels, w-c*deltak, shots)\n",
    "\n",
    "        delta = lossplus-lossminus\n",
    "        avg_magnitudes += np.abs(delta/(2*c))\n",
    "        \n",
    "    avg_magnitudes /= steps\n",
    "    return (target_magnitudes / avg_magnitudes)\n",
    "    "
   ]
  },
  {
   "cell_type": "code",
   "execution_count": 15,
   "metadata": {},
   "outputs": [],
   "source": [
    "def do_spsa(train_features, train_labels, w, N=100, c = 0.2, alpha = 0.602, gamma = 0.101, shots=2000):\n",
    "    A = N * 0.1\n",
    "    a = init_a(train_features, train_labels, w, c, shots)\n",
    "    print(\"a: \", a)\n",
    "\n",
    "    loss = 0\n",
    "\n",
    "    for k in range(1, N):\n",
    "        ak = a / (A + k)**alpha\n",
    "        ck = c / (k**gamma)\n",
    "        gk, loss  = compute_grad(train_features, train_labels, w, ck, shots = shots)\n",
    "        w = w - ak*gk\n",
    "\n",
    "        print(\"\\nIteration: \", k)\n",
    "        print(\"Loss: \", loss)\n",
    "\n",
    "        if loss < 0.1:\n",
    "            break\n",
    "\n",
    "    return w, loss"
   ]
  },
  {
   "cell_type": "code",
   "execution_count": 16,
   "metadata": {},
   "outputs": [],
   "source": [
    "def training_phase(train_features, train_labels, shots=2000):\n",
    "    theta = [0, 0, 0, 0, 0, 0, 0, 0, 0, 0, 0, 0, 0, 0, 0, 0]\n",
    "    b = 0\n",
    "    \n",
    "    w = theta + [b]\n",
    "    theta, loss = do_spsa(train_features, train_labels, w, shots=shots)\n",
    "    return theta, loss"
   ]
  },
  {
   "cell_type": "code",
   "execution_count": 17,
   "metadata": {},
   "outputs": [],
   "source": [
    "def classification_phase(test_features, test_labels, theta_optimal, shots=10000):\n",
    "    predictions = []\n",
    "    for i in range(len(test_features)):\n",
    "        counts = single_circuit_evaluation(test_features[i], theta_optimal, shots)\n",
    "        p_0 = (counts.get(\"00\", 0)+counts.get(\"11\", 0))/shots\n",
    "        p_1 = (counts.get(\"01\", 0)+counts.get(\"10\", 0))/shots\n",
    "        if p_0 > p_1:\n",
    "            predictions.append(-1)\n",
    "        else:\n",
    "            predictions.append(1)\n",
    "    \n",
    "    \n",
    "    print(\"Test labels\")\n",
    "    print(test_labels)\n",
    "    print(\"Predicted labels\")\n",
    "    print(predictions)\n",
    "    success_rate = np.sum(np.equal(predictions, test_labels))/len(test_labels)\n",
    "    print(\"Success rate: \", success_rate)\n",
    "    return predictions, success_rate"
   ]
  },
  {
   "cell_type": "code",
   "execution_count": 18,
   "metadata": {},
   "outputs": [
    {
     "name": "stdout",
     "output_type": "stream",
     "text": [
      "a:  1.6044489345850161\n",
      "\n",
      "Iteration:  1\n",
      "Loss:  0.4857418668214156\n",
      "\n",
      "Iteration:  2\n",
      "Loss:  0.4669517609523299\n",
      "\n",
      "Iteration:  3\n",
      "Loss:  0.43389549069847144\n",
      "\n",
      "Iteration:  4\n",
      "Loss:  0.3042317974942075\n",
      "\n",
      "Iteration:  5\n",
      "Loss:  0.23788779972330054\n",
      "\n",
      "Iteration:  6\n",
      "Loss:  0.19330454132944352\n",
      "\n",
      "Iteration:  7\n",
      "Loss:  0.17208385360591458\n",
      "\n",
      "Iteration:  8\n",
      "Loss:  0.22264876665204025\n",
      "\n",
      "Iteration:  9\n",
      "Loss:  0.18850299575135826\n",
      "\n",
      "Iteration:  10\n",
      "Loss:  0.17817519970327006\n",
      "\n",
      "Iteration:  11\n",
      "Loss:  0.18782791896754747\n",
      "\n",
      "Iteration:  12\n",
      "Loss:  0.22157397721370625\n",
      "\n",
      "Iteration:  13\n",
      "Loss:  0.1661877573938848\n",
      "\n",
      "Iteration:  14\n",
      "Loss:  0.1837362063847315\n",
      "\n",
      "Iteration:  15\n",
      "Loss:  0.1848882687036547\n",
      "\n",
      "Iteration:  16\n",
      "Loss:  0.14409278054089145\n",
      "\n",
      "Iteration:  17\n",
      "Loss:  0.10548572689262767\n",
      "\n",
      "Iteration:  18\n",
      "Loss:  0.13037249949330545\n",
      "\n",
      "Iteration:  19\n",
      "Loss:  0.13621165895545195\n",
      "\n",
      "Iteration:  20\n",
      "Loss:  0.14043013800664292\n",
      "\n",
      "Iteration:  21\n",
      "Loss:  0.20281789635011754\n",
      "\n",
      "Iteration:  22\n",
      "Loss:  0.1336906503426391\n",
      "\n",
      "Iteration:  23\n",
      "Loss:  0.0742056649337681\n"
     ]
    }
   ],
   "source": [
    "theta_optimal, _ = training_phase(train_features, train_labels)"
   ]
  },
  {
   "cell_type": "code",
   "execution_count": 19,
   "metadata": {},
   "outputs": [
    {
     "name": "stdout",
     "output_type": "stream",
     "text": [
      "Test labels\n",
      "[-1 -1 -1 -1 -1 -1 -1 -1 -1 -1 -1 -1 -1 -1 -1 -1 -1 -1 -1 -1 -1 -1 -1 -1\n",
      " -1 -1 -1 -1 -1 -1 -1 -1 -1 -1 -1 -1 -1 -1 -1 -1  1  1  1  1  1  1  1  1\n",
      "  1  1  1  1  1  1  1  1  1  1  1  1  1  1  1  1  1  1  1  1  1  1  1  1\n",
      "  1  1  1  1  1  1  1  1]\n",
      "Predicted labels\n",
      "[-1, -1, -1, -1, -1, -1, -1, -1, -1, -1, -1, -1, -1, -1, -1, -1, -1, -1, -1, -1, -1, 1, -1, -1, -1, -1, -1, -1, -1, -1, -1, -1, -1, -1, -1, -1, -1, -1, -1, -1, 1, 1, 1, 1, 1, 1, 1, 1, 1, 1, 1, 1, 1, 1, 1, 1, 1, 1, 1, 1, -1, 1, 1, 1, 1, 1, 1, 1, 1, 1, 1, 1, 1, 1, 1, 1, 1, 1, 1, 1]\n",
      "Success rate:  0.975\n"
     ]
    }
   ],
   "source": [
    "predict_labels, success_rate = classification_phase(train_features, train_labels, theta_optimal)"
   ]
  },
  {
   "cell_type": "code",
   "execution_count": 20,
   "metadata": {},
   "outputs": [
    {
     "name": "stdout",
     "output_type": "stream",
     "text": [
      "Test labels\n",
      "[-1 -1 -1 -1 -1 -1 -1 -1 -1 -1 -1 -1 -1 -1 -1 -1 -1 -1 -1 -1 -1 -1 -1 -1\n",
      " -1 -1 -1 -1 -1 -1 -1 -1 -1 -1 -1 -1 -1 -1 -1 -1  1  1  1  1  1  1  1  1\n",
      "  1  1  1  1  1  1  1  1  1  1  1  1  1  1  1  1  1  1  1  1  1  1  1  1\n",
      "  1  1  1  1  1  1  1  1]\n",
      "Predicted labels\n",
      "[-1, -1, -1, -1, -1, -1, -1, -1, -1, -1, -1, -1, -1, -1, -1, -1, -1, -1, -1, -1, -1, -1, 1, -1, 1, -1, -1, -1, -1, -1, -1, -1, -1, -1, -1, -1, -1, -1, -1, -1, 1, 1, 1, 1, 1, 1, 1, 1, 1, 1, 1, -1, 1, 1, 1, 1, 1, 1, 1, 1, 1, 1, 1, 1, 1, 1, 1, 1, 1, 1, 1, 1, 1, 1, 1, 1, 1, 1, 1, 1]\n",
      "Success rate:  0.9625\n"
     ]
    }
   ],
   "source": [
    "predict_labels, success_rate = classification_phase(test_features, test_labels, theta_optimal)"
   ]
  }
 ],
 "metadata": {
  "kernelspec": {
   "display_name": "Python 3",
   "language": "python",
   "name": "python3"
  },
  "language_info": {
   "codemirror_mode": {
    "name": "ipython",
    "version": 3
   },
   "file_extension": ".py",
   "mimetype": "text/x-python",
   "name": "python",
   "nbconvert_exporter": "python",
   "pygments_lexer": "ipython3",
   "version": "3.12.2"
  }
 },
 "nbformat": 4,
 "nbformat_minor": 2
}
