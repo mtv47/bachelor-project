{
 "cells": [
  {
   "cell_type": "code",
   "execution_count": 1,
   "metadata": {},
   "outputs": [],
   "source": [
    "import numpy as np\n",
    "import qiskit\n",
    "import qiskit_ibm_runtime\n",
    "from qiskit import QuantumCircuit\n",
    "from qiskit.circuit.library import ZZFeatureMap\n",
    "from qiskit.circuit.library import TwoLocal\n",
    "from qiskit_machine_learning.datasets import ad_hoc_data\n",
    "from itertools import chain, combinations"
   ]
  },
  {
   "cell_type": "code",
   "execution_count": 2,
   "metadata": {},
   "outputs": [],
   "source": [
    "from qiskit_aer import AerSimulator\n",
    "sim = AerSimulator()"
   ]
  },
  {
   "cell_type": "markdown",
   "metadata": {},
   "source": [
    "# Ad Hoc Data"
   ]
  },
  {
   "cell_type": "code",
   "execution_count": 3,
   "metadata": {},
   "outputs": [
    {
     "data": {
      "image/png": "[encoded data removed]",
      "text/plain": [
       "<Figure size 640x480 with 1 Axes>"
      ]
     },
     "metadata": {},
     "output_type": "display_data"
    },
    {
     "name": "stdout",
     "output_type": "stream",
     "text": [
      "Training labels[-1 -1 -1 -1 -1 -1 -1 -1 -1 -1 -1 -1 -1 -1 -1 -1 -1 -1 -1 -1 -1 -1 -1 -1\n",
      " -1 -1 -1 -1 -1 -1 -1 -1 -1 -1 -1 -1 -1 -1 -1 -1  1  1  1  1  1  1  1  1\n",
      "  1  1  1  1  1  1  1  1  1  1  1  1  1  1  1  1  1  1  1  1  1  1  1  1\n",
      "  1  1  1  1  1  1  1  1]\n",
      "Test labels[-1 -1 -1 -1 -1 -1 -1 -1 -1 -1 -1 -1 -1 -1 -1 -1 -1 -1 -1 -1 -1 -1 -1 -1\n",
      " -1 -1 -1 -1 -1 -1 -1 -1 -1 -1 -1 -1 -1 -1 -1 -1  1  1  1  1  1  1  1  1\n",
      "  1  1  1  1  1  1  1  1  1  1  1  1  1  1  1  1  1  1  1  1  1  1  1  1\n",
      "  1  1  1  1  1  1  1  1]\n",
      "Size of training data(80, 2) (80,)\n",
      "Size of test data(80, 2) (80,)\n"
     ]
    }
   ],
   "source": [
    "train_features, train_labels, test_features, test_labels, adhoc_total = ad_hoc_data(\n",
    "    training_size=40,\n",
    "    test_size=40,\n",
    "    n=2,\n",
    "    gap=0.3,\n",
    "    plot_data=True,\n",
    "    one_hot=False,\n",
    "    include_sample_total=True,\n",
    ")\n",
    "train_labels = np.where(train_labels == 0, -1, 1)\n",
    "test_labels = np.where(test_labels == 0, -1, 1)\n",
    "\n",
    "print(\"Training labels\" + str(train_labels))\n",
    "print(\"Test labels\" + str(test_labels))\n",
    "print(\"Size of training data\" + str(train_features.shape) + \" \" + str(train_labels.shape))\n",
    "print(\"Size of test data\" + str(test_features.shape) + \" \" + str(test_labels.shape))\n"
   ]
  },
  {
   "cell_type": "markdown",
   "metadata": {},
   "source": [
    "# Feature Map"
   ]
  },
  {
   "cell_type": "markdown",
   "metadata": {},
   "source": [
    "$$\n",
    "Z = \\left(\\begin{array}{cc}\n",
    "1 & 0 \\\\\n",
    "0 & -1\n",
    "\\end{array}\\right)\n",
    "\\qquad\n",
    "Z_0Z_1 = \\left(\\begin{array}{cccc}\n",
    "1 & 0 & 0 & 0 \\\\\n",
    "0 & -1 & 0 & 0 \\\\\n",
    "0 & 0 & -1 & 0 \\\\\n",
    "0 & 0 & 0 & 1\n",
    "\\end{array}\\right)\n",
    "$$"
   ]
  },
  {
   "cell_type": "markdown",
   "metadata": {},
   "source": [
    "$$U_{\\Phi(\\vec{x})}=\\exp \\left(i [x_1 Z_1+x_2 Z_2+(\\pi-x_1)(\\pi-x_2) Z_1Z_2]\\right)=\\exp \\left(i x_1 Z_1\\right)*\\exp \\left(i x_2 Z_2\\right)*\\exp \\left(i (\\pi-x_1)(\\pi-x_2) Z_1Z_2\\right)$$"
   ]
  },
  {
   "cell_type": "markdown",
   "metadata": {},
   "source": [
    "$$P(\\lambda)=\\left(\\begin{array}{cc}\n",
    "1 & 0 \\\\\n",
    "0 & e^{i \\lambda}\n",
    "\\end{array}\\right)\n",
    "\\qquad \n",
    "P(-2\\lambda)=\\left(\\begin{array}{cc}\n",
    "1 & 0 \\\\\n",
    "0 & e^{-i 2\\lambda}\n",
    "\\end{array}\\right)\n",
    "=e^{-i \\lambda}*\\left(\\begin{array}{cc}\n",
    "e^{i \\lambda} & 0 \\\\\n",
    "0 & e^{-i \\lambda}\n",
    "\\end{array}\\right)\n",
    "$$"
   ]
  },
  {
   "cell_type": "markdown",
   "metadata": {},
   "source": [
    "$$\n",
    " \\exp \\left(i x_0 Z_0\\right) = \\left(\\begin{array}{cc}\n",
    "e^{i x_0} & 0 \\\\\n",
    "0 & e^{-i x_0}\n",
    "\\end{array}\\right)\n",
    "= e^{i x_0}*P(-2x_0)\n",
    "\\qquad \\exp \\left(i x_1 Z_1\\right) = \\left(\\begin{array}{cc}\n",
    "e^{i x_1} & 0 \\\\\n",
    "0 & e^{-i x_1}\n",
    "\\end{array}\\right)\n",
    "= e^{i x_1}*P(-2x_1)\n",
    "$$"
   ]
  },
  {
   "cell_type": "markdown",
   "metadata": {},
   "source": [
    "$$Z_0Z_1 = \\left(\\begin{array}{cccc}\n",
    "1 & 0 & 0 & 0 \\\\\n",
    "0 & -1 & 0 & 0 \\\\\n",
    "0 & 0 & -1 & 0 \\\\\n",
    "0 & 0 & 0 & 1\n",
    "\\end{array}\\right)\n",
    "\\qquad\n",
    "e^{i \\lambda Z_0 Z_1}=\\left(\\begin{array}{cccc}\n",
    "e^{i \\lambda} & 0 & 0 & 0 \\\\\n",
    "0 & e^{-i \\lambda} & 0 & 0 \\\\\n",
    "0 & 0 & e^{-i \\lambda} & 0 \\\\\n",
    "0 & 0 & 0 & e^{i \\lambda}\n",
    "\\end{array}\\right)=e^{-i \\lambda}*\\left(\\begin{array}{cc}\n",
    "P(-2\\lambda) & 0 \\\\\n",
    "0 & X P(-2\\lambda) X\n",
    "\\end{array}\\right)\n",
    "= e^{-i \\lambda}* [C X \\cdot(I \\otimes P(-2\\lambda)) \\cdot C X]\n",
    "$$"
   ]
  },
  {
   "cell_type": "markdown",
   "metadata": {},
   "source": [
    "$$\\text { since } X P(-2\\lambda) X=\\left(\\begin{array}{ll}\n",
    "0 & 1 \\\\\n",
    "1 & 0\n",
    "\\end{array}\\right)\\left(\\begin{array}{cc}\n",
    "e^{i \\lambda} & 0 \\\\\n",
    "0 & e^{-i \\lambda}\n",
    "\\end{array}\\right)\\left(\\begin{array}{ll}\n",
    "0 & 1 \\\\\n",
    "1 & 0\n",
    "\\end{array}\\right)=\\left(\\begin{array}{cc}\n",
    "e^{-i \\lambda} & 0 \\\\\n",
    "0 & e^{i \\lambda}\n",
    "\\end{array}\\right)\n",
    "$$"
   ]
  },
  {
   "cell_type": "code",
   "execution_count": 4,
   "metadata": {},
   "outputs": [],
   "source": [
    "def powerset(iterable, size):\n",
    "    s = list(range(len(iterable)))\n",
    "    return chain.from_iterable(combinations(s, r) for r in range(size + 1))"
   ]
  },
  {
   "cell_type": "code",
   "execution_count": 5,
   "metadata": {},
   "outputs": [],
   "source": [
    "def feature_map_custom(fm, x, reps=1):\n",
    "    list_of_set = list(powerset(x, 2))\n",
    "\n",
    "    for _ in range(reps):\n",
    "        for i in range(len(x)):\n",
    "            fm.h(i)\n",
    "        for l in list_of_set:\n",
    "            if len(l) == 0:\n",
    "                continue\n",
    "            if len(l) == 1:\n",
    "                fm.p(-2 * x[l[0]], l[0])\n",
    "            else:\n",
    "                (i, j) = l\n",
    "                fm.cx(i, j)\n",
    "                fm.p(-2 *(np.pi-x[i])*(np.pi-x[j]), j)\n",
    "                fm.cx(i, j)\n",
    "        fm.barrier()\n",
    "        "
   ]
  },
  {
   "cell_type": "code",
   "execution_count": 6,
   "metadata": {},
   "outputs": [
    {
     "data": {
      "image/png": "[encoded data removed]",
      "text/plain": [
       "<Figure size 1123.61x284.278 with 1 Axes>"
      ]
     },
     "execution_count": 6,
     "metadata": {},
     "output_type": "execute_result"
    }
   ],
   "source": [
    "fm = QuantumCircuit(3)\n",
    "feature_map_custom(fm, [1.0, 1.0, 1.0], 1)\n",
    "fm.decompose(\"U_phi\").draw(output='mpl')"
   ]
  },
  {
   "cell_type": "markdown",
   "metadata": {},
   "source": [
    "# Ansatz"
   ]
  },
  {
   "cell_type": "markdown",
   "metadata": {},
   "source": [
    "$$W(\\vec{\\theta})=U_{\\mathrm{loc}}^{(l)}\\left(\\theta_l\\right) U_{\\mathrm{ent}} \\ldots U_{\\mathrm{loc}}^{(2)}\\left(\\theta_2\\right) U_{\\mathrm{ent}} U_{\\mathrm{loc}}^{(1)}\\left(\\theta_1\\right) $$"
   ]
  },
  {
   "cell_type": "markdown",
   "metadata": {},
   "source": [
    "$$U_{\\text {loc }}^{(t)}\\left(\\theta_t\\right)=\\otimes_{m=1}^n U\\left(\\theta_{m, t}\\right) \\qquad U\\left(\\theta_{m, t}\\right)=e^{i \\frac{1}{2} \\theta_{m, t}^z Z_m} e^{i \\frac{1}{2} \\theta_{m, t}^y Y_m}$$"
   ]
  },
  {
   "cell_type": "markdown",
   "metadata": {},
   "source": [
    "$$U_{\\mathrm{ent}}=\\prod_{(i, j) \\in E} \\mathrm{CZ}(i, j)$$"
   ]
  },
  {
   "cell_type": "markdown",
   "metadata": {},
   "source": [
    "$$R Y(\\theta)=\\exp \\left(-i \\frac{\\theta}{2} Y\\right)=\\left(\\begin{array}{cc}\n",
    "\\cos \\left(\\frac{\\theta}{2}\\right) & -\\sin \\left(\\frac{\\theta}{2}\\right) \\\\\n",
    "\\sin \\left(\\frac{\\theta}{2}\\right) & \\cos \\left(\\frac{\\theta}{2}\\right)\n",
    "\\end{array}\\right)$$"
   ]
  },
  {
   "cell_type": "markdown",
   "metadata": {},
   "source": [
    "$$R Z(\\lambda)=\\exp \\left(-i \\frac{\\lambda}{2} Z\\right)=\\left(\\begin{array}{cc}\n",
    "e^{-i \\frac{\\lambda}{2}} & 0 \\\\\n",
    "0 & e^{i \\frac{\\lambda}{2}}\n",
    "\\end{array}\\right)$$"
   ]
  },
  {
   "cell_type": "code",
   "execution_count": 7,
   "metadata": {},
   "outputs": [],
   "source": [
    "def ansatz_custom(ansatz, theta, reps=1):\n",
    "    for i in range(reps+1):\n",
    "        if i!=0 & i!=reps:\n",
    "            ansatz.cz(0, 1)\n",
    "        ansatz.ry(theta[0+4*i], 0)\n",
    "        ansatz.ry(theta[1+4*i], 1)\n",
    "        ansatz.rz(theta[2+4*i], 0)\n",
    "        ansatz.rz(theta[3+4*i], 1)"
   ]
  },
  {
   "cell_type": "code",
   "execution_count": 8,
   "metadata": {},
   "outputs": [
    {
     "data": {
      "image/png": "[encoded data removed]",
      "text/plain": [
       "<Figure size 1039.79x200.667 with 1 Axes>"
      ]
     },
     "execution_count": 8,
     "metadata": {},
     "output_type": "execute_result"
    }
   ],
   "source": [
    "ansatz = QuantumCircuit(2)\n",
    "ansatz_custom(ansatz, [1.0, 1.0, 1.0, 1.0, 1.0, 1.0, 1.0, 1.0, 1.0, 1.0, 1.0, 1.0, 1.0, 1.0, 1.0, 1.0], 3)\n",
    "ansatz.draw(output='mpl')"
   ]
  },
  {
   "cell_type": "code",
   "execution_count": 9,
   "metadata": {},
   "outputs": [],
   "source": [
    "def sigmoid(x):\n",
    "    return 1/(1+np.exp(-x))"
   ]
  },
  {
   "cell_type": "code",
   "execution_count": 10,
   "metadata": {},
   "outputs": [],
   "source": [
    "def single_circuit_evaluation(x, theta, shots):\n",
    "    qc = QuantumCircuit(2)\n",
    "    feature_map_custom(qc, x, 2)\n",
    "    ansatz_custom(qc, theta, 3)\n",
    "    qc.measure_all()\n",
    "    job = sim.run(qc, shots=shots)\n",
    "    result = job.result()\n",
    "    counts = result.get_counts(qc)\n",
    "    return counts"
   ]
  },
  {
   "cell_type": "code",
   "execution_count": 11,
   "metadata": {},
   "outputs": [],
   "source": [
    "def compute_empirical_risk(train_features, train_labels, w, shots):\n",
    "    r = shots/10\n",
    "    y = 0\n",
    "    theta = w[:-1]\n",
    "    b = w[-1]\n",
    "\n",
    "    empirical_risk = 0\n",
    "    for i in range(len(train_labels)):\n",
    "        py_empirical = 0\n",
    "        counts = single_circuit_evaluation(train_features[i], theta, shots)\n",
    "        \n",
    "        p_0 = (counts.get(\"00\", 0)+counts.get(\"11\", 0))/shots\n",
    "        p_1 = (counts.get(\"01\", 0)+counts.get(\"10\", 0))/shots\n",
    "        if train_labels[i] == 1:\n",
    "            py_empirical = p_1\n",
    "            y = 1\n",
    "        else:\n",
    "            py_empirical = p_0\n",
    "            y = -1\n",
    "        top = np.sqrt(r)*(0.5-(py_empirical-0.5*(y*b)))\n",
    "        bottom = np.sqrt(2*(1-py_empirical)*py_empirical)\n",
    "        empirical_risk += sigmoid(top/bottom)   \n",
    "    empirical_risk /= len(train_labels)\n",
    "    return empirical_risk\n"
   ]
  },
  {
   "cell_type": "code",
   "execution_count": 12,
   "metadata": {},
   "outputs": [],
   "source": [
    "def compute_grad(train_features, train_labels, w, ck, shots):\n",
    "    deltak = np.random.choice([-1, 1], len(w))\n",
    "\n",
    "    lossplus = compute_empirical_risk(train_features, train_labels, w+ck*deltak, shots)\n",
    "    lossminus = compute_empirical_risk(train_features, train_labels, w-ck*deltak, shots)\n",
    "\n",
    "    avg_loss = (lossplus+lossminus)/2\n",
    "    grad = (lossplus-lossminus)/(2*ck*(deltak))\n",
    "    \n",
    "    return grad, avg_loss"
   ]
  },
  {
   "cell_type": "code",
   "execution_count": 13,
   "metadata": {},
   "outputs": [],
   "source": [
    "def init_c(train_features, train_labels, w, shots):\n",
    "    steps = 10\n",
    "    empirical_list = []\n",
    "    for _ in range(steps):\n",
    "        empirical_list.append(compute_empirical_risk(train_features, train_labels, w, shots))\n",
    "    loss_list = np.abs(np.diff(empirical_list))\n",
    "    return np.std(loss_list)*100"
   ]
  },
  {
   "cell_type": "code",
   "execution_count": 14,
   "metadata": {},
   "outputs": [],
   "source": [
    "def init_a(train_features, train_labels, w, c, A, alpha, shots):\n",
    "    steps = 1\n",
    "    avg_magnitudes = 0\n",
    "    target_magnitudes = 0.15\n",
    "    for _ in range(steps):\n",
    "        grad, _ = compute_grad(train_features, train_labels, w, c, shots)\n",
    "        avg_magnitudes += np.abs(grad)\n",
    "        \n",
    "    avg_magnitudes /= steps\n",
    "    return (target_magnitudes*(A**alpha) / avg_magnitudes.mean())\n",
    "    "
   ]
  },
  {
   "cell_type": "code",
   "execution_count": 15,
   "metadata": {},
   "outputs": [],
   "source": [
    "def do_spsa(train_features, train_labels, w, N=200, alpha = 0.602, gamma = 0.101, shots=2000):\n",
    "    A = N * 0.01\n",
    "    c = init_c(train_features, train_labels, w, shots)\n",
    "    a = init_a(train_features, train_labels, w, c, A, alpha, shots)\n",
    "    print(\"a: \", a)\n",
    "    print(\"c: \", c)\n",
    "\n",
    "    min_w = w\n",
    "    min_loss = 1\n",
    "\n",
    "    for k in range(1, N):\n",
    "        ak = a / (A + k)**alpha\n",
    "        ck = c / (k**gamma)\n",
    "        gk, loss  = compute_grad(train_features, train_labels, w, ck, shots = shots)\n",
    "        \n",
    "        if loss < min_loss:\n",
    "            min_loss = loss\n",
    "            min_w = w\n",
    "\n",
    "        print(\"\\nIteration: \", k)\n",
    "        print(\"Loss: \", loss)\n",
    "        print(\"Grad norm: \", np.linalg.norm(gk))\n",
    "\n",
    "        if loss < 0.11:\n",
    "            break\n",
    "\n",
    "        w = w - ak*gk\n",
    "\n",
    "    return min_w, min_loss"
   ]
  },
  {
   "cell_type": "code",
   "execution_count": 16,
   "metadata": {},
   "outputs": [],
   "source": [
    "def training_phase(train_features, train_labels, shots=2000):\n",
    "    theta = [0, 0, 0, 0, 0, 0, 0, 0, 0, 0, 0, 0, 0, 0, 0, 0]\n",
    "    b = 0\n",
    "    \n",
    "    w = theta + [b]\n",
    "    theta, loss = do_spsa(train_features, train_labels, w, shots=shots)\n",
    "    return theta, loss"
   ]
  },
  {
   "cell_type": "code",
   "execution_count": 17,
   "metadata": {},
   "outputs": [],
   "source": [
    "def classification_phase(test_features, test_labels, theta_optimal, shots=10000):\n",
    "    predictions = []\n",
    "    for i in range(len(test_features)):\n",
    "        counts = single_circuit_evaluation(test_features[i], theta_optimal, shots)\n",
    "        p_0 = (counts.get(\"00\", 0)+counts.get(\"11\", 0))/shots\n",
    "        p_1 = (counts.get(\"01\", 0)+counts.get(\"10\", 0))/shots\n",
    "        if p_0 > p_1:\n",
    "            predictions.append(-1)\n",
    "        else:\n",
    "            predictions.append(1)\n",
    "    \n",
    "    \n",
    "    print(\"Test labels\")\n",
    "    print(test_labels)\n",
    "    print(\"Predicted labels\")\n",
    "    print(predictions)\n",
    "    success_rate = np.sum(np.equal(predictions, test_labels))/len(test_labels)\n",
    "    print(\"Success rate: \", success_rate)\n",
    "    return predictions, success_rate"
   ]
  },
  {
   "cell_type": "code",
   "execution_count": 18,
   "metadata": {},
   "outputs": [
    {
     "name": "stdout",
     "output_type": "stream",
     "text": [
      "a:  1.2718423378873391\n",
      "c:  0.2375065928757805\n",
      "\n",
      "Iteration:  1\n",
      "Loss:  0.4310989718636985\n",
      "Grad norm:  4.368316179570472\n",
      "\n",
      "Iteration:  2\n",
      "Loss:  0.47233788667069426\n",
      "Grad norm:  0.28381342759314276\n",
      "\n",
      "Iteration:  3\n",
      "Loss:  0.450938661503829\n",
      "Grad norm:  1.0830088791256778\n",
      "\n",
      "Iteration:  4\n",
      "Loss:  0.4464721295818226\n",
      "Grad norm:  0.09610593862149099\n",
      "\n",
      "Iteration:  5\n",
      "Loss:  0.41330312558690996\n",
      "Grad norm:  1.266514240368855\n",
      "\n",
      "Iteration:  6\n",
      "Loss:  0.47487888373541765\n",
      "Grad norm:  1.8874604424958037\n",
      "\n",
      "Iteration:  7\n",
      "Loss:  0.43550969490291697\n",
      "Grad norm:  1.293467781634611\n",
      "\n",
      "Iteration:  8\n",
      "Loss:  0.3981096491492815\n",
      "Grad norm:  0.4040035838489741\n",
      "\n",
      "Iteration:  9\n",
      "Loss:  0.3937073053105149\n",
      "Grad norm:  0.7031428079887004\n",
      "\n",
      "Iteration:  10\n",
      "Loss:  0.43365642572798435\n",
      "Grad norm:  0.2510422656755739\n",
      "\n",
      "Iteration:  11\n",
      "Loss:  0.3522848062321085\n",
      "Grad norm:  0.561779770803272\n",
      "\n",
      "Iteration:  12\n",
      "Loss:  0.3486701222238918\n",
      "Grad norm:  1.5040719476074056\n",
      "\n",
      "Iteration:  13\n",
      "Loss:  0.3496770122854513\n",
      "Grad norm:  0.6839576848781733\n",
      "\n",
      "Iteration:  14\n",
      "Loss:  0.33643787908030565\n",
      "Grad norm:  0.24959730521284398\n",
      "\n",
      "Iteration:  15\n",
      "Loss:  0.31567206812942356\n",
      "Grad norm:  0.024064129060268325\n",
      "\n",
      "Iteration:  16\n",
      "Loss:  0.32664230900738334\n",
      "Grad norm:  0.9641052988894305\n",
      "\n",
      "Iteration:  17\n",
      "Loss:  0.31615463323200954\n",
      "Grad norm:  0.7692840123249136\n",
      "\n",
      "Iteration:  18\n",
      "Loss:  0.32227015637716305\n",
      "Grad norm:  0.6146880439927426\n",
      "\n",
      "Iteration:  19\n",
      "Loss:  0.3394816922158319\n",
      "Grad norm:  0.8809604571366733\n",
      "\n",
      "Iteration:  20\n",
      "Loss:  0.28985557558607455\n",
      "Grad norm:  0.15014623380440126\n",
      "\n",
      "Iteration:  21\n",
      "Loss:  0.33422436947907186\n",
      "Grad norm:  0.5073337171201355\n",
      "\n",
      "Iteration:  22\n",
      "Loss:  0.3221540705390067\n",
      "Grad norm:  0.6758167566522674\n",
      "\n",
      "Iteration:  23\n",
      "Loss:  0.3412375248748325\n",
      "Grad norm:  0.44803722683358077\n",
      "\n",
      "Iteration:  24\n",
      "Loss:  0.2803428923840471\n",
      "Grad norm:  0.8379569870743356\n",
      "\n",
      "Iteration:  25\n",
      "Loss:  0.2730368612269751\n",
      "Grad norm:  0.6738717787567674\n",
      "\n",
      "Iteration:  26\n",
      "Loss:  0.2898746020968461\n",
      "Grad norm:  0.786512948901442\n",
      "\n",
      "Iteration:  27\n",
      "Loss:  0.3287822863859741\n",
      "Grad norm:  0.7909374387449895\n",
      "\n",
      "Iteration:  28\n",
      "Loss:  0.280848289813434\n",
      "Grad norm:  1.049749379399789\n",
      "\n",
      "Iteration:  29\n",
      "Loss:  0.2745814576699672\n",
      "Grad norm:  0.30961300840403794\n",
      "\n",
      "Iteration:  30\n",
      "Loss:  0.3066748422353366\n",
      "Grad norm:  0.9418880726575124\n",
      "\n",
      "Iteration:  31\n",
      "Loss:  0.244983696664882\n",
      "Grad norm:  0.43705788839597776\n",
      "\n",
      "Iteration:  32\n",
      "Loss:  0.29701394194874664\n",
      "Grad norm:  0.4860834278597275\n",
      "\n",
      "Iteration:  33\n",
      "Loss:  0.27016142591514397\n",
      "Grad norm:  1.3203144893595546\n",
      "\n",
      "Iteration:  34\n",
      "Loss:  0.2869967067279793\n",
      "Grad norm:  0.3922417822881068\n",
      "\n",
      "Iteration:  35\n",
      "Loss:  0.24556436943484278\n",
      "Grad norm:  0.22707046843101283\n",
      "\n",
      "Iteration:  36\n",
      "Loss:  0.2394907101254201\n",
      "Grad norm:  2.629907339575379\n",
      "\n",
      "Iteration:  37\n",
      "Loss:  0.2058639876983104\n",
      "Grad norm:  1.2960987367250685\n",
      "\n",
      "Iteration:  38\n",
      "Loss:  0.19336028903826064\n",
      "Grad norm:  0.991783705085125\n",
      "\n",
      "Iteration:  39\n",
      "Loss:  0.22455363258195404\n",
      "Grad norm:  0.8954437377941693\n",
      "\n",
      "Iteration:  40\n",
      "Loss:  0.18815189865747498\n",
      "Grad norm:  0.07462839801611816\n",
      "\n",
      "Iteration:  41\n",
      "Loss:  0.18018594147330563\n",
      "Grad norm:  1.0939900895567192\n",
      "\n",
      "Iteration:  42\n",
      "Loss:  0.18196837822584427\n",
      "Grad norm:  0.3628594466188726\n",
      "\n",
      "Iteration:  43\n",
      "Loss:  0.16710134609550692\n",
      "Grad norm:  1.1287089684527094\n",
      "\n",
      "Iteration:  44\n",
      "Loss:  0.18468755342589788\n",
      "Grad norm:  2.148975989373381\n",
      "\n",
      "Iteration:  45\n",
      "Loss:  0.1513087934827208\n",
      "Grad norm:  1.4106561608747161\n",
      "\n",
      "Iteration:  46\n",
      "Loss:  0.1088139815329023\n",
      "Grad norm:  0.4027486555173586\n"
     ]
    }
   ],
   "source": [
    "theta_optimal, _ = training_phase(train_features, train_labels)"
   ]
  },
  {
   "cell_type": "code",
   "execution_count": 19,
   "metadata": {},
   "outputs": [
    {
     "name": "stdout",
     "output_type": "stream",
     "text": [
      "Test labels\n",
      "[-1 -1 -1 -1 -1 -1 -1 -1 -1 -1 -1 -1 -1 -1 -1 -1 -1 -1 -1 -1 -1 -1 -1 -1\n",
      " -1 -1 -1 -1 -1 -1 -1 -1 -1 -1 -1 -1 -1 -1 -1 -1  1  1  1  1  1  1  1  1\n",
      "  1  1  1  1  1  1  1  1  1  1  1  1  1  1  1  1  1  1  1  1  1  1  1  1\n",
      "  1  1  1  1  1  1  1  1]\n",
      "Predicted labels\n",
      "[-1, -1, -1, -1, -1, -1, -1, -1, -1, -1, -1, -1, -1, -1, -1, -1, -1, -1, -1, -1, -1, -1, -1, -1, -1, -1, -1, -1, -1, -1, -1, -1, -1, -1, -1, -1, -1, -1, -1, -1, 1, 1, 1, 1, 1, 1, 1, 1, -1, -1, 1, 1, 1, 1, 1, 1, 1, 1, 1, 1, 1, 1, 1, -1, -1, 1, 1, 1, 1, 1, 1, 1, 1, 1, 1, -1, 1, 1, 1, -1]\n",
      "Success rate:  0.925\n"
     ]
    }
   ],
   "source": [
    "predict_labels, success_rate = classification_phase(train_features, train_labels, theta_optimal)"
   ]
  },
  {
   "cell_type": "code",
   "execution_count": 20,
   "metadata": {},
   "outputs": [
    {
     "name": "stdout",
     "output_type": "stream",
     "text": [
      "Test labels\n",
      "[-1 -1 -1 -1 -1 -1 -1 -1 -1 -1 -1 -1 -1 -1 -1 -1 -1 -1 -1 -1 -1 -1 -1 -1\n",
      " -1 -1 -1 -1 -1 -1 -1 -1 -1 -1 -1 -1 -1 -1 -1 -1  1  1  1  1  1  1  1  1\n",
      "  1  1  1  1  1  1  1  1  1  1  1  1  1  1  1  1  1  1  1  1  1  1  1  1\n",
      "  1  1  1  1  1  1  1  1]\n",
      "Predicted labels\n",
      "[-1, -1, -1, -1, -1, -1, -1, -1, -1, -1, -1, -1, -1, -1, -1, -1, -1, -1, -1, -1, -1, -1, -1, -1, -1, -1, -1, -1, -1, -1, -1, -1, -1, -1, -1, -1, -1, -1, -1, -1, 1, 1, 1, 1, 1, 1, 1, 1, -1, 1, 1, 1, 1, 1, 1, -1, 1, 1, 1, 1, 1, 1, 1, 1, 1, -1, 1, 1, 1, 1, -1, 1, 1, 1, 1, 1, 1, 1, 1, -1]\n",
      "Success rate:  0.9375\n"
     ]
    }
   ],
   "source": [
    "predict_labels, success_rate = classification_phase(test_features, test_labels, theta_optimal)"
   ]
  }
 ],
 "metadata": {
  "kernelspec": {
   "display_name": "Python 3",
   "language": "python",
   "name": "python3"
  },
  "language_info": {
   "codemirror_mode": {
    "name": "ipython",
    "version": 3
   },
   "file_extension": ".py",
   "mimetype": "text/x-python",
   "name": "python",
   "nbconvert_exporter": "python",
   "pygments_lexer": "ipython3",
   "version": "3.12.2"
  }
 },
 "nbformat": 4,
 "nbformat_minor": 2
}
