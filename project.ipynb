{
 "cells": [
  {
   "cell_type": "code",
   "execution_count": 1,
   "metadata": {},
   "outputs": [],
   "source": [
    "import numpy as np\n",
    "import qiskit\n",
    "import qiskit_ibm_runtime\n",
    "from qiskit import QuantumCircuit\n",
    "from qiskit.circuit.library import ZZFeatureMap\n",
    "from qiskit.circuit.library import TwoLocal\n",
    "from qiskit_machine_learning.datasets import ad_hoc_data"
   ]
  },
  {
   "cell_type": "code",
   "execution_count": 2,
   "metadata": {},
   "outputs": [],
   "source": [
    "from qiskit_aer import AerSimulator\n",
    "sim = AerSimulator()"
   ]
  },
  {
   "cell_type": "markdown",
   "metadata": {},
   "source": [
    "# Ad Hoc Data"
   ]
  },
  {
   "cell_type": "code",
   "execution_count": 3,
   "metadata": {},
   "outputs": [
    {
     "data": {
      "image/png": "[encoded data removed]",
      "text/plain": [
       "<Figure size 640x480 with 1 Axes>"
      ]
     },
     "metadata": {},
     "output_type": "display_data"
    },
    {
     "name": "stdout",
     "output_type": "stream",
     "text": [
      "Training labels[-1 -1 -1 -1 -1 -1 -1 -1 -1 -1 -1 -1 -1 -1 -1 -1 -1 -1 -1 -1 -1 -1 -1 -1\n",
      " -1 -1 -1 -1 -1 -1 -1 -1 -1 -1 -1 -1 -1 -1 -1 -1  1  1  1  1  1  1  1  1\n",
      "  1  1  1  1  1  1  1  1  1  1  1  1  1  1  1  1  1  1  1  1  1  1  1  1\n",
      "  1  1  1  1  1  1  1  1]\n",
      "Test labels[-1 -1 -1 -1 -1 -1 -1 -1 -1 -1 -1 -1 -1 -1 -1 -1 -1 -1 -1 -1 -1 -1 -1 -1\n",
      " -1 -1 -1 -1 -1 -1 -1 -1 -1 -1 -1 -1 -1 -1 -1 -1  1  1  1  1  1  1  1  1\n",
      "  1  1  1  1  1  1  1  1  1  1  1  1  1  1  1  1  1  1  1  1  1  1  1  1\n",
      "  1  1  1  1  1  1  1  1]\n",
      "Size of training data(80, 2) (80,)\n",
      "Size of test data(80, 2) (80,)\n"
     ]
    }
   ],
   "source": [
    "train_features, train_labels, test_features, test_labels, adhoc_total = ad_hoc_data(\n",
    "    training_size=40,\n",
    "    test_size=40,\n",
    "    n=2,\n",
    "    gap=0.3,\n",
    "    plot_data=True,\n",
    "    one_hot=False,\n",
    "    include_sample_total=True,\n",
    ")\n",
    "train_labels = np.where(train_labels == 0, -1, 1)\n",
    "test_labels = np.where(test_labels == 0, -1, 1)\n",
    "\n",
    "print(\"Training labels\" + str(train_labels))\n",
    "print(\"Test labels\" + str(test_labels))\n",
    "print(\"Size of training data\" + str(train_features.shape) + \" \" + str(train_labels.shape))\n",
    "print(\"Size of test data\" + str(test_features.shape) + \" \" + str(test_labels.shape))\n"
   ]
  },
  {
   "cell_type": "markdown",
   "metadata": {},
   "source": [
    "# Feature Map"
   ]
  },
  {
   "cell_type": "markdown",
   "metadata": {},
   "source": [
    "$$\n",
    "Z = \\left(\\begin{array}{cc}\n",
    "1 & 0 \\\\\n",
    "0 & -1\n",
    "\\end{array}\\right)\n",
    "\\qquad\n",
    "Z_0Z_1 = \\left(\\begin{array}{cccc}\n",
    "1 & 0 & 0 & 0 \\\\\n",
    "0 & -1 & 0 & 0 \\\\\n",
    "0 & 0 & -1 & 0 \\\\\n",
    "0 & 0 & 0 & 1\n",
    "\\end{array}\\right)\n",
    "$$"
   ]
  },
  {
   "cell_type": "markdown",
   "metadata": {},
   "source": [
    "$$U_{\\Phi(\\vec{x})}=\\exp \\left(i [x_1 Z_1+x_2 Z_2+(\\pi-x_1)(\\pi-x_2) Z_1Z_2]\\right)=\\exp \\left(i x_1 Z_1\\right)*\\exp \\left(i x_2 Z_2\\right)*\\exp \\left(i (\\pi-x_1)(\\pi-x_2) Z_1Z_2\\right)$$"
   ]
  },
  {
   "cell_type": "markdown",
   "metadata": {},
   "source": [
    "$$P(\\lambda)=\\left(\\begin{array}{cc}\n",
    "1 & 0 \\\\\n",
    "0 & e^{i \\lambda}\n",
    "\\end{array}\\right)\n",
    "\\qquad \n",
    "P(-2\\lambda)=\\left(\\begin{array}{cc}\n",
    "1 & 0 \\\\\n",
    "0 & e^{-i 2\\lambda}\n",
    "\\end{array}\\right)\n",
    "=e^{-i \\lambda}*\\left(\\begin{array}{cc}\n",
    "e^{i \\lambda} & 0 \\\\\n",
    "0 & e^{-i \\lambda}\n",
    "\\end{array}\\right)\n",
    "$$"
   ]
  },
  {
   "cell_type": "markdown",
   "metadata": {},
   "source": [
    "$$\n",
    " \\exp \\left(i x_0 Z_0\\right) = \\left(\\begin{array}{cc}\n",
    "e^{i x_0} & 0 \\\\\n",
    "0 & e^{-i x_0}\n",
    "\\end{array}\\right)\n",
    "= e^{i x_0}*P(-2x_0)\n",
    "\\qquad \\exp \\left(i x_1 Z_1\\right) = \\left(\\begin{array}{cc}\n",
    "e^{i x_1} & 0 \\\\\n",
    "0 & e^{-i x_1}\n",
    "\\end{array}\\right)\n",
    "= e^{i x_1}*P(-2x_1)\n",
    "$$"
   ]
  },
  {
   "cell_type": "markdown",
   "metadata": {},
   "source": [
    "$$Z_0Z_1 = \\left(\\begin{array}{cccc}\n",
    "1 & 0 & 0 & 0 \\\\\n",
    "0 & -1 & 0 & 0 \\\\\n",
    "0 & 0 & -1 & 0 \\\\\n",
    "0 & 0 & 0 & 1\n",
    "\\end{array}\\right)\n",
    "\\qquad\n",
    "e^{i \\lambda Z_0 Z_1}=\\left(\\begin{array}{cccc}\n",
    "e^{i \\lambda} & 0 & 0 & 0 \\\\\n",
    "0 & e^{-i \\lambda} & 0 & 0 \\\\\n",
    "0 & 0 & e^{-i \\lambda} & 0 \\\\\n",
    "0 & 0 & 0 & e^{i \\lambda}\n",
    "\\end{array}\\right)=e^{-i \\lambda}*\\left(\\begin{array}{cc}\n",
    "P(-2\\lambda) & 0 \\\\\n",
    "0 & X P(-2\\lambda) X\n",
    "\\end{array}\\right)\n",
    "= e^{-i \\lambda}* [C X \\cdot(I \\otimes P(-2\\lambda)) \\cdot C X]\n",
    "$$"
   ]
  },
  {
   "cell_type": "markdown",
   "metadata": {},
   "source": [
    "$$\\text { since } X P(-2\\lambda) X=\\left(\\begin{array}{ll}\n",
    "0 & 1 \\\\\n",
    "1 & 0\n",
    "\\end{array}\\right)\\left(\\begin{array}{cc}\n",
    "e^{i \\lambda} & 0 \\\\\n",
    "0 & e^{-i \\lambda}\n",
    "\\end{array}\\right)\\left(\\begin{array}{ll}\n",
    "0 & 1 \\\\\n",
    "1 & 0\n",
    "\\end{array}\\right)=\\left(\\begin{array}{cc}\n",
    "e^{-i \\lambda} & 0 \\\\\n",
    "0 & e^{i \\lambda}\n",
    "\\end{array}\\right)\n",
    "$$"
   ]
  },
  {
   "cell_type": "code",
   "execution_count": 4,
   "metadata": {},
   "outputs": [],
   "source": [
    "def feature_map_custom(fm, x):\n",
    "    fm.h(0)\n",
    "    fm.h(1)\n",
    "    fm.barrier()\n",
    "    fm.p(-2*x[0], 0)\n",
    "    fm.p(-2*x[1], 1)\n",
    "    fm.cx(0, 1)\n",
    "    fm.p(-2*(np.pi-x[0])*(np.pi-x[1]), 1)\n",
    "    fm.cx(0, 1)\n",
    "    fm.barrier()\n",
    "    fm.h(0)\n",
    "    fm.h(1)\n",
    "    fm.barrier()\n",
    "    fm.p(-2*x[0], 0)\n",
    "    fm.p(-2*x[1], 1)\n",
    "    fm.cx(0, 1)\n",
    "    fm.p(-2*(np.pi-x[0])*(np.pi-x[1]), 1)\n",
    "    fm.cx(0, 1)"
   ]
  },
  {
   "cell_type": "code",
   "execution_count": 5,
   "metadata": {},
   "outputs": [
    {
     "data": {
      "image/png": "[encoded data removed]",
      "text/plain": [
       "<Figure size 1207.02x200.667 with 1 Axes>"
      ]
     },
     "execution_count": 5,
     "metadata": {},
     "output_type": "execute_result"
    }
   ],
   "source": [
    "fm = QuantumCircuit(2)\n",
    "feature_map_custom(fm, [1.0, 1.0])\n",
    "fm.decompose(\"U_phi\").draw(output='mpl')"
   ]
  },
  {
   "cell_type": "code",
   "execution_count": 6,
   "metadata": {},
   "outputs": [
    {
     "data": {
      "image/png": "[encoded data removed]",
      "text/plain": [
       "<Figure size 1541.46x200.667 with 1 Axes>"
      ]
     },
     "execution_count": 6,
     "metadata": {},
     "output_type": "execute_result"
    }
   ],
   "source": [
    "feature_map = ZZFeatureMap(feature_dimension=2, reps=2, insert_barriers=True, entanglement = 'full')\n",
    "feature_map.decompose().draw(output='mpl')"
   ]
  },
  {
   "cell_type": "markdown",
   "metadata": {},
   "source": [
    "# Ansatz"
   ]
  },
  {
   "cell_type": "markdown",
   "metadata": {},
   "source": [
    "$$W(\\vec{\\theta})=U_{\\mathrm{loc}}^{(l)}\\left(\\theta_l\\right) U_{\\mathrm{ent}} \\ldots U_{\\mathrm{loc}}^{(2)}\\left(\\theta_2\\right) U_{\\mathrm{ent}} U_{\\mathrm{loc}}^{(1)}\\left(\\theta_1\\right) $$"
   ]
  },
  {
   "cell_type": "markdown",
   "metadata": {},
   "source": [
    "$$U_{\\text {loc }}^{(t)}\\left(\\theta_t\\right)=\\otimes_{m=1}^n U\\left(\\theta_{m, t}\\right) \\qquad U\\left(\\theta_{m, t}\\right)=e^{i \\frac{1}{2} \\theta_{m, t}^z Z_m} e^{i \\frac{1}{2} \\theta_{m, t}^y Y_m}$$"
   ]
  },
  {
   "cell_type": "markdown",
   "metadata": {},
   "source": [
    "$$U_{\\mathrm{ent}}=\\prod_{(i, j) \\in E} \\mathrm{CZ}(i, j)$$"
   ]
  },
  {
   "cell_type": "markdown",
   "metadata": {},
   "source": [
    "$$R Y(\\theta)=\\exp \\left(-i \\frac{\\theta}{2} Y\\right)=\\left(\\begin{array}{cc}\n",
    "\\cos \\left(\\frac{\\theta}{2}\\right) & -\\sin \\left(\\frac{\\theta}{2}\\right) \\\\\n",
    "\\sin \\left(\\frac{\\theta}{2}\\right) & \\cos \\left(\\frac{\\theta}{2}\\right)\n",
    "\\end{array}\\right)$$"
   ]
  },
  {
   "cell_type": "markdown",
   "metadata": {},
   "source": [
    "$$R Z(\\lambda)=\\exp \\left(-i \\frac{\\lambda}{2} Z\\right)=\\left(\\begin{array}{cc}\n",
    "e^{-i \\frac{\\lambda}{2}} & 0 \\\\\n",
    "0 & e^{i \\frac{\\lambda}{2}}\n",
    "\\end{array}\\right)$$"
   ]
  },
  {
   "cell_type": "code",
   "execution_count": 7,
   "metadata": {},
   "outputs": [],
   "source": [
    "def ansatz_custom(ansatz, theta, reps=1):\n",
    "    for i in range(reps+1):\n",
    "        if i!=0 & i!=reps:\n",
    "            ansatz.cz(0, 1)\n",
    "        ansatz.ry(theta[0+4*i], 0)\n",
    "        ansatz.ry(theta[1+4*i], 1)\n",
    "        ansatz.rz(theta[2+4*i], 0)\n",
    "        ansatz.rz(theta[3+4*i], 1)"
   ]
  },
  {
   "cell_type": "code",
   "execution_count": 8,
   "metadata": {},
   "outputs": [
    {
     "data": {
      "image/png": "[encoded data removed]",
      "text/plain": [
       "<Figure size 1039.79x200.667 with 1 Axes>"
      ]
     },
     "execution_count": 8,
     "metadata": {},
     "output_type": "execute_result"
    }
   ],
   "source": [
    "ansatz = QuantumCircuit(2)\n",
    "ansatz_custom(ansatz, [1.0, 1.0, 1.0, 1.0, 1.0, 1.0, 1.0, 1.0, 1.0, 1.0, 1.0, 1.0, 1.0, 1.0, 1.0, 1.0], 3)\n",
    "ansatz.draw(output='mpl')"
   ]
  },
  {
   "cell_type": "code",
   "execution_count": 9,
   "metadata": {},
   "outputs": [
    {
     "data": {
      "image/png": "[encoded data removed]",
      "text/plain": [
       "<Figure size 1039.79x200.667 with 1 Axes>"
      ]
     },
     "execution_count": 9,
     "metadata": {},
     "output_type": "execute_result"
    }
   ],
   "source": [
    "var_form = TwoLocal(2, ['ry', 'rz'], 'cz', reps=3)\n",
    "var_form.decompose().draw(output='mpl')"
   ]
  },
  {
   "cell_type": "code",
   "execution_count": 10,
   "metadata": {},
   "outputs": [],
   "source": [
    "def sigmoid(x):\n",
    "    return 1/(1+np.exp(-x))"
   ]
  },
  {
   "cell_type": "code",
   "execution_count": 11,
   "metadata": {},
   "outputs": [],
   "source": [
    "def single_circuit_evaluation(x, theta, shots):\n",
    "    qc = QuantumCircuit(2)\n",
    "    feature_map_custom(qc, x)\n",
    "    ansatz_custom(qc, theta, 3)\n",
    "    qc.measure_all()\n",
    "    job = sim.run(qc, shots=shots)\n",
    "    result = job.result()\n",
    "    counts = result.get_counts(qc)\n",
    "    return counts"
   ]
  },
  {
   "cell_type": "code",
   "execution_count": 12,
   "metadata": {},
   "outputs": [],
   "source": [
    "def compute_empirical_risk(train_features, train_labels, w, shots):\n",
    "    r = shots/10\n",
    "    y = 0\n",
    "    theta = w[:-1]\n",
    "    b = w[-1]\n",
    "\n",
    "    empirical_risk = 0\n",
    "    for i in range(len(train_labels)):\n",
    "        py_empirical = 0\n",
    "        counts = single_circuit_evaluation(train_features[i], theta, shots)\n",
    "        \n",
    "        p_0 = (counts.get(\"00\", 0)+counts.get(\"11\", 0))/shots\n",
    "        p_1 = (counts.get(\"01\", 0)+counts.get(\"10\", 0))/shots\n",
    "        if train_labels[i] == 1:\n",
    "            py_empirical = p_1\n",
    "            y = 1\n",
    "        else:\n",
    "            py_empirical = p_0\n",
    "            y = -1\n",
    "        top = np.sqrt(r)*(0.5-(py_empirical-0.5*(y*b)))\n",
    "        bottom = np.sqrt(2*(1-py_empirical)*py_empirical)\n",
    "        empirical_risk += sigmoid(top/bottom)   \n",
    "    empirical_risk /= len(train_labels)\n",
    "    return empirical_risk\n"
   ]
  },
  {
   "cell_type": "code",
   "execution_count": 13,
   "metadata": {},
   "outputs": [],
   "source": [
    "def compute_grad(train_features, train_labels, w, ck, shots):\n",
    "    deltak = np.random.choice([-1, 1], len(w))\n",
    "\n",
    "    lossplus = compute_empirical_risk(train_features, train_labels, w+ck*deltak, shots)\n",
    "    lossminus = compute_empirical_risk(train_features, train_labels, w-ck*deltak, shots)\n",
    "\n",
    "    avg_loss = (lossplus+lossminus)/2\n",
    "    grad = (lossplus-lossminus)/(2*ck*(deltak))\n",
    "    \n",
    "    return grad, avg_loss"
   ]
  },
  {
   "cell_type": "code",
   "execution_count": 14,
   "metadata": {},
   "outputs": [],
   "source": [
    "def init_c(train_features, train_labels, w, shots):\n",
    "    steps = 10\n",
    "    empirical_list = []\n",
    "    for _ in range(steps):\n",
    "        empirical_list.append(compute_empirical_risk(train_features, train_labels, w, shots))\n",
    "    loss_list = np.abs(np.diff(empirical_list))\n",
    "    return np.std(loss_list)*100"
   ]
  },
  {
   "cell_type": "code",
   "execution_count": 15,
   "metadata": {},
   "outputs": [],
   "source": [
    "def init_a(train_features, train_labels, w, c, A, alpha, shots):\n",
    "    steps = 1\n",
    "    avg_magnitudes = 0\n",
    "    target_magnitudes = 0.15\n",
    "    for _ in range(steps):\n",
    "        grad, _ = compute_grad(train_features, train_labels, w, c, shots)\n",
    "        avg_magnitudes += np.abs(grad)\n",
    "        \n",
    "    avg_magnitudes /= steps\n",
    "    return (target_magnitudes*(A**alpha) / avg_magnitudes.mean())\n",
    "    "
   ]
  },
  {
   "cell_type": "code",
   "execution_count": 16,
   "metadata": {},
   "outputs": [],
   "source": [
    "def do_spsa(train_features, train_labels, w, N=200, alpha = 0.602, gamma = 0.101, shots=2000):\n",
    "    A = N * 0.01\n",
    "    c = init_c(train_features, train_labels, w, shots)\n",
    "    a = init_a(train_features, train_labels, w, c, A, alpha, shots)\n",
    "    print(\"a: \", a)\n",
    "    print(\"c: \", c)\n",
    "\n",
    "    min_w = w\n",
    "    min_loss = 1\n",
    "\n",
    "    for k in range(1, N):\n",
    "        ak = a / (A + k)**alpha\n",
    "        ck = c / (k**gamma)\n",
    "        gk, loss  = compute_grad(train_features, train_labels, w, ck, shots = shots)\n",
    "        \n",
    "        if loss < min_loss:\n",
    "            min_loss = loss\n",
    "            min_w = w\n",
    "\n",
    "        print(\"\\nIteration: \", k)\n",
    "        print(\"Loss: \", loss)\n",
    "        print(\"Grad norm: \", np.linalg.norm(gk))\n",
    "\n",
    "        if loss < 0.11:\n",
    "            break\n",
    "\n",
    "        w = w - ak*gk\n",
    "\n",
    "    return min_w, min_loss"
   ]
  },
  {
   "cell_type": "code",
   "execution_count": 17,
   "metadata": {},
   "outputs": [],
   "source": [
    "def training_phase(train_features, train_labels, shots=2000):\n",
    "    theta = [0, 0, 0, 0, 0, 0, 0, 0, 0, 0, 0, 0, 0, 0, 0, 0]\n",
    "    b = 0\n",
    "    \n",
    "    w = theta + [b]\n",
    "    theta, loss = do_spsa(train_features, train_labels, w, shots=shots)\n",
    "    return theta, loss"
   ]
  },
  {
   "cell_type": "code",
   "execution_count": 18,
   "metadata": {},
   "outputs": [],
   "source": [
    "def classification_phase(test_features, test_labels, theta_optimal, shots=10000):\n",
    "    predictions = []\n",
    "    for i in range(len(test_features)):\n",
    "        counts = single_circuit_evaluation(test_features[i], theta_optimal, shots)\n",
    "        p_0 = (counts.get(\"00\", 0)+counts.get(\"11\", 0))/shots\n",
    "        p_1 = (counts.get(\"01\", 0)+counts.get(\"10\", 0))/shots\n",
    "        if p_0 > p_1:\n",
    "            predictions.append(-1)\n",
    "        else:\n",
    "            predictions.append(1)\n",
    "    \n",
    "    \n",
    "    print(\"Test labels\")\n",
    "    print(test_labels)\n",
    "    print(\"Predicted labels\")\n",
    "    print(predictions)\n",
    "    success_rate = np.sum(np.equal(predictions, test_labels))/len(test_labels)\n",
    "    print(\"Success rate: \", success_rate)\n",
    "    return predictions, success_rate"
   ]
  },
  {
   "cell_type": "code",
   "execution_count": 19,
   "metadata": {},
   "outputs": [
    {
     "name": "stdout",
     "output_type": "stream",
     "text": [
      "a:  0.9543829604150218\n",
      "c:  0.3602875741181632\n",
      "\n",
      "Iteration:  1\n",
      "Loss:  0.5789261371986711\n",
      "Grad norm:  0.292320005844102\n",
      "\n",
      "Iteration:  2\n",
      "Loss:  0.4202800108636573\n",
      "Grad norm:  0.5169321229104785\n",
      "\n",
      "Iteration:  3\n",
      "Loss:  0.5427969650929858\n",
      "Grad norm:  1.3871672683942067\n",
      "\n",
      "Iteration:  4\n",
      "Loss:  0.5316948795829609\n",
      "Grad norm:  2.0503516551914496\n",
      "\n",
      "Iteration:  5\n",
      "Loss:  0.4564934802962385\n",
      "Grad norm:  1.0658960354993863\n",
      "\n",
      "Iteration:  6\n",
      "Loss:  0.47453755598543884\n",
      "Grad norm:  0.6636680770467436\n",
      "\n",
      "Iteration:  7\n",
      "Loss:  0.3980951604735582\n",
      "Grad norm:  0.9691480996676254\n",
      "\n",
      "Iteration:  8\n",
      "Loss:  0.3711533656025799\n",
      "Grad norm:  1.017112952666507\n",
      "\n",
      "Iteration:  9\n",
      "Loss:  0.3721771346162769\n",
      "Grad norm:  0.3414259771623461\n",
      "\n",
      "Iteration:  10\n",
      "Loss:  0.4025022644109847\n",
      "Grad norm:  0.31934654926656697\n",
      "\n",
      "Iteration:  11\n",
      "Loss:  0.3742743954073704\n",
      "Grad norm:  0.20975848831421906\n",
      "\n",
      "Iteration:  12\n",
      "Loss:  0.39369758362703156\n",
      "Grad norm:  0.4451250143968436\n",
      "\n",
      "Iteration:  13\n",
      "Loss:  0.398571765054135\n",
      "Grad norm:  0.5261901461009671\n",
      "\n",
      "Iteration:  14\n",
      "Loss:  0.4536112465663662\n",
      "Grad norm:  1.2904116126774374\n",
      "\n",
      "Iteration:  15\n",
      "Loss:  0.32972020521956663\n",
      "Grad norm:  0.8219241791477472\n",
      "\n",
      "Iteration:  16\n",
      "Loss:  0.36916615612426923\n",
      "Grad norm:  0.107209110411169\n",
      "\n",
      "Iteration:  17\n",
      "Loss:  0.38439944286851063\n",
      "Grad norm:  1.0972995358266115\n",
      "\n",
      "Iteration:  18\n",
      "Loss:  0.3370992616856746\n",
      "Grad norm:  0.02442369130033076\n",
      "\n",
      "Iteration:  19\n",
      "Loss:  0.33866355885208205\n",
      "Grad norm:  0.13284836636548583\n",
      "\n",
      "Iteration:  20\n",
      "Loss:  0.3686436183486104\n",
      "Grad norm:  0.8051015798605753\n",
      "\n",
      "Iteration:  21\n",
      "Loss:  0.40482028505938566\n",
      "Grad norm:  1.4629588261680964\n",
      "\n",
      "Iteration:  22\n",
      "Loss:  0.3149814466851039\n",
      "Grad norm:  0.11836521181500698\n",
      "\n",
      "Iteration:  23\n",
      "Loss:  0.3713567526709375\n",
      "Grad norm:  0.9034836499442714\n",
      "\n",
      "Iteration:  24\n",
      "Loss:  0.2784177119386078\n",
      "Grad norm:  1.8853855385734755\n",
      "\n",
      "Iteration:  25\n",
      "Loss:  0.30363293873740826\n",
      "Grad norm:  0.13853757684871557\n",
      "\n",
      "Iteration:  26\n",
      "Loss:  0.36639184287558724\n",
      "Grad norm:  1.2793147055867748\n",
      "\n",
      "Iteration:  27\n",
      "Loss:  0.2859401453928526\n",
      "Grad norm:  0.2255960037124541\n",
      "\n",
      "Iteration:  28\n",
      "Loss:  0.28777225612743634\n",
      "Grad norm:  0.9654023839189876\n",
      "\n",
      "Iteration:  29\n",
      "Loss:  0.2929760720830652\n",
      "Grad norm:  1.1820836885464157\n",
      "\n",
      "Iteration:  30\n",
      "Loss:  0.332976528262601\n",
      "Grad norm:  0.8388542797908517\n",
      "\n",
      "Iteration:  31\n",
      "Loss:  0.2969351241538186\n",
      "Grad norm:  0.2269173314487188\n",
      "\n",
      "Iteration:  32\n",
      "Loss:  0.2684306138873609\n",
      "Grad norm:  0.09724434381085689\n",
      "\n",
      "Iteration:  33\n",
      "Loss:  0.26001595372704905\n",
      "Grad norm:  1.0106098140658522\n",
      "\n",
      "Iteration:  34\n",
      "Loss:  0.26833333871506654\n",
      "Grad norm:  0.10843427251927117\n",
      "\n",
      "Iteration:  35\n",
      "Loss:  0.31951161703359365\n",
      "Grad norm:  0.2037293331490905\n",
      "\n",
      "Iteration:  36\n",
      "Loss:  0.23875689545193468\n",
      "Grad norm:  1.4307657125240412\n",
      "\n",
      "Iteration:  37\n",
      "Loss:  0.38623536378084977\n",
      "Grad norm:  1.4087108358691913\n",
      "\n",
      "Iteration:  38\n",
      "Loss:  0.27337714521176687\n",
      "Grad norm:  2.0880784519776996\n",
      "\n",
      "Iteration:  39\n",
      "Loss:  0.2559203588244713\n",
      "Grad norm:  1.0454858888617007\n",
      "\n",
      "Iteration:  40\n",
      "Loss:  0.2030903827807382\n",
      "Grad norm:  1.5512713172666188\n",
      "\n",
      "Iteration:  41\n",
      "Loss:  0.24097978342480378\n",
      "Grad norm:  1.789184281667836\n",
      "\n",
      "Iteration:  42\n",
      "Loss:  0.27598915082785763\n",
      "Grad norm:  0.885825117477766\n",
      "\n",
      "Iteration:  43\n",
      "Loss:  0.18267356664992374\n",
      "Grad norm:  0.5919284397636946\n",
      "\n",
      "Iteration:  44\n",
      "Loss:  0.18819061327140257\n",
      "Grad norm:  0.8976170476897106\n",
      "\n",
      "Iteration:  45\n",
      "Loss:  0.17927461717106527\n",
      "Grad norm:  0.4726655800580943\n",
      "\n",
      "Iteration:  46\n",
      "Loss:  0.23650262844893577\n",
      "Grad norm:  1.449699779911479\n",
      "\n",
      "Iteration:  47\n",
      "Loss:  0.17376203854724798\n",
      "Grad norm:  0.12199227761435469\n",
      "\n",
      "Iteration:  48\n",
      "Loss:  0.20254058281942255\n",
      "Grad norm:  0.1388846266177226\n",
      "\n",
      "Iteration:  49\n",
      "Loss:  0.22759559445559652\n",
      "Grad norm:  0.6577546992921067\n",
      "\n",
      "Iteration:  50\n",
      "Loss:  0.12437605459120295\n",
      "Grad norm:  0.2698934155598117\n",
      "\n",
      "Iteration:  51\n",
      "Loss:  0.17092284928191992\n",
      "Grad norm:  1.1270325114071997\n",
      "\n",
      "Iteration:  52\n",
      "Loss:  0.18162974749680177\n",
      "Grad norm:  0.4574465563792229\n",
      "\n",
      "Iteration:  53\n",
      "Loss:  0.13104642854080506\n",
      "Grad norm:  1.1557099067980463\n",
      "\n",
      "Iteration:  54\n",
      "Loss:  0.16384302864494588\n",
      "Grad norm:  0.32610875508262904\n",
      "\n",
      "Iteration:  55\n",
      "Loss:  0.20321470046565893\n",
      "Grad norm:  0.28987379887894643\n",
      "\n",
      "Iteration:  56\n",
      "Loss:  0.2058585574049348\n",
      "Grad norm:  0.45894601997676143\n",
      "\n",
      "Iteration:  57\n",
      "Loss:  0.24682958365793872\n",
      "Grad norm:  0.3315234898957893\n",
      "\n",
      "Iteration:  58\n",
      "Loss:  0.21686805444443094\n",
      "Grad norm:  0.16021602355054082\n",
      "\n",
      "Iteration:  59\n",
      "Loss:  0.18577654977129782\n",
      "Grad norm:  0.7290929821711761\n",
      "\n",
      "Iteration:  60\n",
      "Loss:  0.1939943257267231\n",
      "Grad norm:  0.01155292626924173\n",
      "\n",
      "Iteration:  61\n",
      "Loss:  0.2020027115266989\n",
      "Grad norm:  0.09571502231657035\n",
      "\n",
      "Iteration:  62\n",
      "Loss:  0.16215946038561632\n",
      "Grad norm:  0.42081912205972927\n",
      "\n",
      "Iteration:  63\n",
      "Loss:  0.15016265899840853\n",
      "Grad norm:  0.44723208534164427\n",
      "\n",
      "Iteration:  64\n",
      "Loss:  0.16167967798059352\n",
      "Grad norm:  0.4048319983483544\n",
      "\n",
      "Iteration:  65\n",
      "Loss:  0.12475758045918278\n",
      "Grad norm:  0.15313988387460223\n",
      "\n",
      "Iteration:  66\n",
      "Loss:  0.16829113537682108\n",
      "Grad norm:  0.060134148916051046\n",
      "\n",
      "Iteration:  67\n",
      "Loss:  0.21997561027714935\n",
      "Grad norm:  0.41311435976058347\n",
      "\n",
      "Iteration:  68\n",
      "Loss:  0.21838018542413645\n",
      "Grad norm:  1.4001656805808151\n",
      "\n",
      "Iteration:  69\n",
      "Loss:  0.12053684247623503\n",
      "Grad norm:  0.1108774739988593\n",
      "\n",
      "Iteration:  70\n",
      "Loss:  0.12685953550964113\n",
      "Grad norm:  0.3345123347731284\n",
      "\n",
      "Iteration:  71\n",
      "Loss:  0.15681791727716274\n",
      "Grad norm:  0.4787547936472189\n",
      "\n",
      "Iteration:  72\n",
      "Loss:  0.15686399938630324\n",
      "Grad norm:  0.5483934926291022\n",
      "\n",
      "Iteration:  73\n",
      "Loss:  0.1667863176470716\n",
      "Grad norm:  0.3279408267365071\n",
      "\n",
      "Iteration:  74\n",
      "Loss:  0.1420333691889749\n",
      "Grad norm:  0.8556506570932599\n",
      "\n",
      "Iteration:  75\n",
      "Loss:  0.15095375936909253\n",
      "Grad norm:  0.6159031550408747\n",
      "\n",
      "Iteration:  76\n",
      "Loss:  0.11145977446270916\n",
      "Grad norm:  0.3760026070069781\n",
      "\n",
      "Iteration:  77\n",
      "Loss:  0.12234813096810412\n",
      "Grad norm:  0.3276993464233774\n",
      "\n",
      "Iteration:  78\n",
      "Loss:  0.11785280541208665\n",
      "Grad norm:  0.267401252948707\n",
      "\n",
      "Iteration:  79\n",
      "Loss:  0.20397284477384978\n",
      "Grad norm:  0.13472265767147956\n",
      "\n",
      "Iteration:  80\n",
      "Loss:  0.14240832539833193\n",
      "Grad norm:  0.32360889142955046\n",
      "\n",
      "Iteration:  81\n",
      "Loss:  0.21674703360109726\n",
      "Grad norm:  0.6260375770139964\n",
      "\n",
      "Iteration:  82\n",
      "Loss:  0.16644856111070783\n",
      "Grad norm:  0.27326468939555676\n",
      "\n",
      "Iteration:  83\n",
      "Loss:  0.13729799842171117\n",
      "Grad norm:  0.6665918146394227\n",
      "\n",
      "Iteration:  84\n",
      "Loss:  0.17835567359727275\n",
      "Grad norm:  0.5908474223231514\n",
      "\n",
      "Iteration:  85\n",
      "Loss:  0.12658111170535208\n",
      "Grad norm:  0.36884884433242343\n",
      "\n",
      "Iteration:  86\n",
      "Loss:  0.13715330670437847\n",
      "Grad norm:  0.9416879930698696\n",
      "\n",
      "Iteration:  87\n",
      "Loss:  0.16505465479211373\n",
      "Grad norm:  0.1619526127000473\n",
      "\n",
      "Iteration:  88\n",
      "Loss:  0.13803111671901905\n",
      "Grad norm:  0.14632085623922392\n",
      "\n",
      "Iteration:  89\n",
      "Loss:  0.1798317006423485\n",
      "Grad norm:  0.004313366176334117\n",
      "\n",
      "Iteration:  90\n",
      "Loss:  0.13083334410631303\n",
      "Grad norm:  0.39967261043975494\n",
      "\n",
      "Iteration:  91\n",
      "Loss:  0.18219433036317573\n",
      "Grad norm:  0.19292095405639542\n",
      "\n",
      "Iteration:  92\n",
      "Loss:  0.09974172221197951\n",
      "Grad norm:  0.2751263934748823\n"
     ]
    }
   ],
   "source": [
    "theta_optimal, _ = training_phase(train_features, train_labels)"
   ]
  },
  {
   "cell_type": "code",
   "execution_count": 20,
   "metadata": {},
   "outputs": [
    {
     "name": "stdout",
     "output_type": "stream",
     "text": [
      "Test labels\n",
      "[-1 -1 -1 -1 -1 -1 -1 -1 -1 -1 -1 -1 -1 -1 -1 -1 -1 -1 -1 -1 -1 -1 -1 -1\n",
      " -1 -1 -1 -1 -1 -1 -1 -1 -1 -1 -1 -1 -1 -1 -1 -1  1  1  1  1  1  1  1  1\n",
      "  1  1  1  1  1  1  1  1  1  1  1  1  1  1  1  1  1  1  1  1  1  1  1  1\n",
      "  1  1  1  1  1  1  1  1]\n",
      "Predicted labels\n",
      "[-1, -1, -1, -1, -1, -1, -1, -1, -1, -1, -1, -1, -1, -1, -1, -1, -1, -1, -1, -1, -1, -1, -1, -1, -1, -1, -1, -1, -1, -1, -1, -1, -1, -1, -1, -1, -1, -1, -1, -1, 1, 1, 1, 1, 1, 1, 1, 1, 1, 1, 1, 1, 1, 1, 1, 1, 1, 1, 1, 1, 1, 1, 1, 1, 1, 1, 1, 1, 1, 1, 1, 1, 1, 1, 1, 1, 1, 1, 1, 1]\n",
      "Success rate:  1.0\n"
     ]
    }
   ],
   "source": [
    "predict_labels, success_rate = classification_phase(train_features, train_labels, theta_optimal)"
   ]
  },
  {
   "cell_type": "code",
   "execution_count": 21,
   "metadata": {},
   "outputs": [
    {
     "name": "stdout",
     "output_type": "stream",
     "text": [
      "Test labels\n",
      "[-1 -1 -1 -1 -1 -1 -1 -1 -1 -1 -1 -1 -1 -1 -1 -1 -1 -1 -1 -1 -1 -1 -1 -1\n",
      " -1 -1 -1 -1 -1 -1 -1 -1 -1 -1 -1 -1 -1 -1 -1 -1  1  1  1  1  1  1  1  1\n",
      "  1  1  1  1  1  1  1  1  1  1  1  1  1  1  1  1  1  1  1  1  1  1  1  1\n",
      "  1  1  1  1  1  1  1  1]\n",
      "Predicted labels\n",
      "[-1, -1, -1, -1, -1, -1, -1, -1, -1, -1, -1, -1, -1, -1, -1, -1, -1, -1, -1, -1, -1, -1, -1, -1, -1, -1, -1, -1, -1, -1, -1, -1, -1, -1, -1, -1, -1, -1, -1, -1, 1, 1, 1, 1, 1, 1, 1, 1, 1, 1, 1, 1, 1, 1, 1, 1, 1, 1, 1, 1, 1, 1, 1, 1, 1, 1, 1, 1, 1, 1, 1, 1, 1, 1, 1, 1, 1, 1, 1, 1]\n",
      "Success rate:  1.0\n"
     ]
    }
   ],
   "source": [
    "predict_labels, success_rate = classification_phase(test_features, test_labels, theta_optimal)"
   ]
  }
 ],
 "metadata": {
  "kernelspec": {
   "display_name": "Python 3",
   "language": "python",
   "name": "python3"
  },
  "language_info": {
   "codemirror_mode": {
    "name": "ipython",
    "version": 3
   },
   "file_extension": ".py",
   "mimetype": "text/x-python",
   "name": "python",
   "nbconvert_exporter": "python",
   "pygments_lexer": "ipython3",
   "version": "3.12.2"
  }
 },
 "nbformat": 4,
 "nbformat_minor": 2
}
